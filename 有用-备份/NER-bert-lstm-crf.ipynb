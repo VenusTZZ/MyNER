{
 "cells": [
  {
   "cell_type": "code",
   "execution_count": 1,
   "id": "7e23fa5c-895b-4e1c-a90c-f5dd7c91a906",
   "metadata": {},
   "outputs": [],
   "source": [
    "# !pip install pytorch-crf\n",
    "# !pip install seqeval\n",
    "# !pip install transformers"
   ]
  },
  {
   "cell_type": "code",
   "execution_count": 2,
   "id": "2febb544-dc5b-443a-909c-e6fba30a26b6",
   "metadata": {},
   "outputs": [],
   "source": [
    "from torch.utils.data import Dataset\n",
    "\n",
    "categories = set()\n",
    "\n",
    "class ReadData(Dataset):\n",
    "    def __init__(self, data_file):\n",
    "        self.data = self.load_data(data_file)\n",
    "    \n",
    "    def load_data(self, data_file):\n",
    "        Data = {}\n",
    "        with open(data_file, 'rt', encoding='utf-8') as f:\n",
    "            for idx, line in enumerate(f.read().split('\\n\\n')):\n",
    "                if not line:\n",
    "                    break\n",
    "                sentence, tags = '', []\n",
    "                for i, c in enumerate(line.split('\\n')):\n",
    "                    word, tag = c.split('\\t')\n",
    "                    sentence += word\n",
    "                    if tag[0] == 'B':\n",
    "                        tags.append([i, i, word, tag[2:]]) # Remove the B- or I-\n",
    "                        categories.add(tag[2:])\n",
    "                    elif tag[0] == 'I':\n",
    "                        tags[-1][1] = i\n",
    "                        tags[-1][2] += word\n",
    "                Data[idx] = {\n",
    "                    'sentence': sentence, \n",
    "                    'tags': tags\n",
    "                }\n",
    "        return Data\n",
    "\n",
    "    def __len__(self):\n",
    "        return len(self.data)\n",
    "\n",
    "    def __getitem__(self, idx):\n",
    "        return self.data[idx]"
   ]
  },
  {
   "cell_type": "code",
   "execution_count": 3,
   "id": "86c938bf-e59f-4530-8fef-133e46a59f0b",
   "metadata": {},
   "outputs": [
    {
     "name": "stdout",
     "output_type": "stream",
     "text": [
      "{'sentence': '主机厂家已机组提供高电压耐受能力情况说明（未说明具体耐受能力范围），缺少对应的报告文件支持。3.常用标准、规程、措施、制度、技术资料和各种记录缺失。主机厂家已提供符合要求的高电压耐受能力证明报告及对应的支持文件', 'tags': [[9, 13, '高电压耐受', 'Phe'], [34, 44, '缺少对应的报告文件支持', 'Phe'], [67, 72, '各种记录缺失', 'Cau'], [79, 96, '提供符合要求的高电压耐受能力证明报告', 'Met']]}\n"
     ]
    }
   ],
   "source": [
    "train_data = ReadData('./example.train')\n",
    "valid_data = ReadData('./example.dev')\n",
    "test_data = ReadData('./example.test')\n",
    "\n",
    "print(train_data[0])"
   ]
  },
  {
   "cell_type": "code",
   "execution_count": 4,
   "id": "3db15345-5245-4fe5-a8da-feb161c4c5e2",
   "metadata": {},
   "outputs": [
    {
     "data": {
      "text/plain": [
       "{'Cau', 'Met', 'Phe'}"
      ]
     },
     "execution_count": 4,
     "metadata": {},
     "output_type": "execute_result"
    }
   ],
   "source": [
    "categories"
   ]
  },
  {
   "cell_type": "code",
   "execution_count": 5,
   "id": "248141e9-424b-44bd-9d07-c8e6a2b99db3",
   "metadata": {},
   "outputs": [
    {
     "name": "stdout",
     "output_type": "stream",
     "text": [
      "{0: 'O', 1: 'B-Cau', 2: 'I-Cau', 3: 'B-Met', 4: 'I-Met', 5: 'B-Phe', 6: 'I-Phe'}\n",
      "{'O': 0, 'B-Cau': 1, 'I-Cau': 2, 'B-Met': 3, 'I-Met': 4, 'B-Phe': 5, 'I-Phe': 6}\n"
     ]
    }
   ],
   "source": [
    "id2label = {0:'O'}\n",
    "for c in list(sorted(categories)):\n",
    "    id2label[len(id2label)] = f\"B-{c}\"\n",
    "    id2label[len(id2label)] = f\"I-{c}\"\n",
    "label2id = {v: k for k, v in id2label.items()}\n",
    "\n",
    "print(id2label)\n",
    "print(label2id)"
   ]
  },
  {
   "cell_type": "code",
   "execution_count": 6,
   "id": "b0250486-767b-483c-8d2c-26412e1da96f",
   "metadata": {},
   "outputs": [],
   "source": [
    "# from transformers import AutoTokenizer\n",
    "# import numpy as np\n",
    "\n",
    "# checkpoint = \"bert-base-chinese\"\n",
    "# tokenizer = AutoTokenizer.from_pretrained(checkpoint)\n",
    "\n",
    "# sentence = '主机厂家已机组提供高电压耐受能力情况说明（未说明具体耐受能力范围）'\n",
    "# tags = [[9, 13, '高电压耐受', 'Phe']]\n",
    "\n",
    "# encoding = tokenizer(sentence, truncation=True)\n",
    "# tokens = encoding.tokens()\n",
    "# label = np.zeros(len(tokens), dtype=int)\n",
    "# for char_start, char_end, word, tag in tags:\n",
    "#     token_start = encoding.char_to_token(char_start)\n",
    "#     token_end = encoding.char_to_token(char_end)\n",
    "#     label[token_start] = label2id[f\"B-{tag}\"]\n",
    "#     label[token_start+1:token_end+1] = label2id[f\"I-{tag}\"]\n",
    "\n",
    "# print(tokens)\n",
    "# print(label)\n",
    "# print([id2label[id] for id in label])"
   ]
  },
  {
   "cell_type": "code",
   "execution_count": 7,
   "id": "6f57d6ff-b11e-4ce9-95f9-8de01bce1316",
   "metadata": {},
   "outputs": [],
   "source": [
    "import torch\n",
    "from torch.utils.data import DataLoader\n",
    "from transformers import AutoTokenizer\n",
    "import numpy as np\n",
    "\n",
    "checkpoint = \"bert-base-chinese\"\n",
    "tokenizer = AutoTokenizer.from_pretrained(checkpoint)\n",
    "\n",
    "def collote_fn(batch_samples):\n",
    "    # batch_sentence, batch_tags,mask = [], [], []\n",
    "    batch_sentence, batch_tags = [], []\n",
    "    for sample in batch_samples:\n",
    "        # print(sample)\n",
    "        batch_sentence.append(sample['sentence'])\n",
    "        batch_tags.append(sample['tags'])\n",
    "        # mask.append(sample['mask_tensor'])\n",
    "    batch_inputs = tokenizer(\n",
    "        batch_sentence, \n",
    "        padding=True, \n",
    "        truncation=True, \n",
    "        return_tensors=\"pt\",\n",
    "        # max_length=256\n",
    "    )\n",
    "    batch_label = np.zeros(batch_inputs['input_ids'].shape, dtype=int)\n",
    "    for s_idx, sentence in enumerate(batch_sentence):\n",
    "        encoding = tokenizer(sentence, truncation=True)\n",
    "        batch_label[s_idx][0] = 0\n",
    "        batch_label[s_idx][len(encoding.tokens())-1:] = 0\n",
    "        for char_start, char_end, _, tag in batch_tags[s_idx]:\n",
    "            token_start = encoding.char_to_token(char_start)\n",
    "            token_end = encoding.char_to_token(char_end)\n",
    "            batch_label[s_idx][token_start] = label2id[f\"B-{tag}\"]\n",
    "            batch_label[s_idx][token_start+1:token_end+1] = label2id[f\"I-{tag}\"]\n",
    "    return batch_inputs, torch.tensor(batch_label)\n",
    "\n",
    "# train_dataloader = DataLoader(train_data, batch_size=4, shuffle=True, collate_fn=collote_fn)\n",
    "train_dataloader = DataLoader(train_data, batch_size=4, shuffle=True, collate_fn=collote_fn)\n",
    "valid_dataloader = DataLoader(valid_data, batch_size=4, shuffle=False, collate_fn=collote_fn)\n",
    "test_dataloader = DataLoader(test_data, batch_size=4, shuffle=False, collate_fn=collote_fn)\n",
    "\n",
    "batch_X, batch_y = next(iter(train_dataloader))\n",
    "# print('batch_X shape:', {k: v.shape for k, v in batch_X.items()})\n",
    "# print('batch_y shape:', batch_y.shape)\n",
    "# print(batch_X)\n",
    "# print(batch_y)"
   ]
  },
  {
   "cell_type": "code",
   "execution_count": 8,
   "id": "d9e63366-cc6a-4196-9d91-6a8c5e7bf8c7",
   "metadata": {},
   "outputs": [
    {
     "name": "stdout",
     "output_type": "stream",
     "text": [
      "Using cuda device\n"
     ]
    },
    {
     "name": "stderr",
     "output_type": "stream",
     "text": [
      "Some weights of the model checkpoint at bert-base-chinese were not used when initializing BertModel: ['cls.predictions.decoder.weight', 'cls.predictions.transform.dense.weight', 'cls.seq_relationship.bias', 'cls.predictions.transform.LayerNorm.weight', 'cls.seq_relationship.weight', 'cls.predictions.transform.LayerNorm.bias', 'cls.predictions.bias', 'cls.predictions.transform.dense.bias']\n",
      "- This IS expected if you are initializing BertModel from the checkpoint of a model trained on another task or with another architecture (e.g. initializing a BertForSequenceClassification model from a BertForPreTraining model).\n",
      "- This IS NOT expected if you are initializing BertModel from the checkpoint of a model that you expect to be exactly identical (initializing a BertForSequenceClassification model from a BertForSequenceClassification model).\n"
     ]
    }
   ],
   "source": [
    "from torch import nn\n",
    "from transformers import AutoModel\n",
    "from torchcrf import CRF\n",
    "\n",
    "device = torch.device('cuda' if torch.cuda.is_available() else 'cpu')\n",
    "print(f'Using {device} device')\n",
    "\n",
    "class model(nn.Module):\n",
    "    def __init__(self):\n",
    "        super(model, self).__init__()\n",
    "        self.bert = AutoModel.from_pretrained(checkpoint)\n",
    "        self.config = self.bert.config\n",
    "        self.BiLstm=nn.LSTM(input_size=self.config.hidden_size,hidden_size=512,batch_first=True,bidirectional=True,num_layers=2)\n",
    "        self.Linear = nn.Linear(512*2, len(id2label))\n",
    "        self.crf = CRF(len(id2label),batch_first=True)\n",
    "            \n",
    "    # def forward(self, x):\n",
    "    def forward(self, x, y):\n",
    "        # 1.\n",
    "        # output = self.bert(**x).last_hidden_state\n",
    "        # output, _ = self.BiLstm(output)\n",
    "        # output = self.Linear(output)\n",
    "        # return output\n",
    "        # 2.\n",
    "        output = self.bert(**x).last_hidden_state\n",
    "        output, _ = self.BiLstm(output)\n",
    "        output = self.Linear(output)\n",
    "        # loss = self.crf(emissions=output,tags=y,mask=mask_tensor)\n",
    "        # tag = self.crf.decode(emissions=output,,mask=mask_tensor)\n",
    "        loss = self.crf(emissions=output,tags=y)\n",
    "        tag = self.crf.decode(emissions=output)\n",
    "        tag=torch.tensor(tag)\n",
    "        return loss, tag\n",
    "    \n",
    "    def decode(self,x):\n",
    "        output = self.bert(**x).last_hidden_state\n",
    "        output, _ = self.BiLstm(output)\n",
    "        output = self.Linear(output)\n",
    "        tag = self.crf.decode(emissions=output)\n",
    "        tag=torch.tensor(tag)\n",
    "        return tag\n",
    "    \n",
    "model = model().to(device)\n",
    "# print(model)"
   ]
  },
  {
   "cell_type": "code",
   "execution_count": 9,
   "id": "7be8c030-7be7-4a53-a61d-1d7afe5be5e0",
   "metadata": {},
   "outputs": [],
   "source": [
    "from tqdm.auto import tqdm\n",
    "\n",
    "def train_loop(dataloader, model, loss_fn, optimizer, lr_scheduler, epoch, total_loss):\n",
    "# def train_loop(dataloader, model, optimizer, lr_scheduler, epoch, total_loss):\n",
    "    progress_bar = tqdm(range(len(dataloader)))\n",
    "    progress_bar.set_description(f'loss: {0:>7f}')\n",
    "    finish_batch_num = (epoch-1) * len(dataloader)\n",
    "    \n",
    "    model.train()\n",
    "    for batch, (X, y) in enumerate(dataloader, start=1):\n",
    "        optimizer.zero_grad()\n",
    "        X, y = X.to(device), y.to(device)\n",
    "        loss, tag = model(X, y)\n",
    "        #  通过 pred.permute(0, 2, 1) 交换后两维，将模型预测结果从(batch,seq,7) 调整为 (batch,7,seq)。\n",
    "        # loss = loss_fn(pred.permute(0, 2, 1), y)\n",
    "        loss = abs(loss)\n",
    "        loss.backward()\n",
    "        optimizer.step()\n",
    "        lr_scheduler.step()\n",
    "        total_loss += loss.item()\n",
    "        progress_bar.set_description(f'loss: {total_loss/(finish_batch_num + batch):>7f}')\n",
    "        progress_bar.update(1)\n",
    "    return total_loss"
   ]
  },
  {
   "cell_type": "code",
   "execution_count": 10,
   "id": "f5a8b2e0-809d-45a6-b967-5594a3d9f05b",
   "metadata": {},
   "outputs": [],
   "source": [
    "# !pip install seqeval\n",
    "# from seqeval.metrics import classification_report\n",
    "# from seqeval.scheme import IOB2\n",
    "\n",
    "# y_true = [['O', 'O', 'O', 'B-LOC', 'I-LOC', 'I-LOC', 'B-LOC', 'O'], ['B-PER', 'I-PER', 'O']]\n",
    "# y_pred = [['O', 'O', 'B-LOC', 'I-LOC', 'I-LOC', 'I-LOC', 'B-LOC', 'O'], ['B-PER', 'I-PER', 'O']]\n",
    "\n",
    "# print(classification_report(y_true, y_pred, mode='strict', scheme=IOB2))"
   ]
  },
  {
   "cell_type": "code",
   "execution_count": 11,
   "id": "476e3919-9969-4b27-9ba7-7c039681d88e",
   "metadata": {},
   "outputs": [],
   "source": [
    "from seqeval.metrics import classification_report\n",
    "from seqeval.scheme import IOB2\n",
    "\n",
    "def test_loop(dataloader, model):\n",
    "    true_labels, true_predictions = [], []\n",
    "\n",
    "    model.eval()\n",
    "    with torch.no_grad():\n",
    "        for X, y in tqdm(dataloader):\n",
    "            X, y = X.to(device), y.to(device)\n",
    "            \n",
    "            # pred = model(X)\n",
    "            loss, tag = model(X, y)\n",
    "            \n",
    "            # predictions = pred.argmax(dim=-1)\n",
    "            predictions = tag\n",
    "            \n",
    "            true_labels += [[id2label[int(l)] for l in label if l != -100] for label in y]\n",
    "            true_predictions += [\n",
    "                [id2label[int(p)] for (p, l) in zip(prediction, label) if l != -100]\n",
    "                for prediction, label in zip(predictions, y)\n",
    "            ]\n",
    "    print(classification_report(true_labels, true_predictions, mode='strict', scheme=IOB2))"
   ]
  },
  {
   "cell_type": "code",
   "execution_count": 12,
   "id": "9c67e51c-ef82-44ba-a35e-f5ff354f0ece",
   "metadata": {},
   "outputs": [
    {
     "name": "stdout",
     "output_type": "stream",
     "text": [
      "Epoch 1/80\n",
      "-------------------------------\n"
     ]
    },
    {
     "name": "stderr",
     "output_type": "stream",
     "text": [
      "/root/miniconda3/lib/python3.8/site-packages/transformers/optimization.py:306: FutureWarning: This implementation of AdamW is deprecated and will be removed in a future version. Use the PyTorch implementation torch.optim.AdamW instead, or set `no_deprecation_warning=True` to disable this warning\n",
      "  warnings.warn(\n"
     ]
    },
    {
     "data": {
      "application/vnd.jupyter.widget-view+json": {
       "model_id": "bdd6b2d23e6c4472bda2c5153b2c9639",
       "version_major": 2,
       "version_minor": 0
      },
      "text/plain": [
       "  0%|          | 0/39 [00:00<?, ?it/s]"
      ]
     },
     "metadata": {},
     "output_type": "display_data"
    },
    {
     "name": "stderr",
     "output_type": "stream",
     "text": [
      "/root/miniconda3/lib/python3.8/site-packages/torchcrf/__init__.py:249: UserWarning: where received a uint8 condition tensor. This behavior is deprecated and will be removed in a future version of PyTorch. Use a boolean condition instead. (Triggered internally at  ../aten/src/ATen/native/TensorCompare.cpp:333.)\n",
      "  score = torch.where(mask[i].unsqueeze(1), next_score, score)\n"
     ]
    },
    {
     "data": {
      "application/vnd.jupyter.widget-view+json": {
       "model_id": "e6b19f04d9794abf889c0872361c313f",
       "version_major": 2,
       "version_minor": 0
      },
      "text/plain": [
       "  0%|          | 0/39 [00:00<?, ?it/s]"
      ]
     },
     "metadata": {},
     "output_type": "display_data"
    },
    {
     "name": "stdout",
     "output_type": "stream",
     "text": [
      "              precision    recall  f1-score   support\n",
      "\n",
      "         Cau       0.00      0.00      0.00        72\n",
      "         Met       0.00      0.00      0.00        74\n",
      "         Phe       0.00      0.00      0.00       201\n",
      "\n",
      "   micro avg       0.00      0.00      0.00       347\n",
      "   macro avg       0.00      0.00      0.00       347\n",
      "weighted avg       0.00      0.00      0.00       347\n",
      "\n",
      "Epoch 2/80\n",
      "-------------------------------\n"
     ]
    },
    {
     "name": "stderr",
     "output_type": "stream",
     "text": [
      "/root/miniconda3/lib/python3.8/site-packages/seqeval/metrics/v1.py:57: UndefinedMetricWarning: Precision and F-score are ill-defined and being set to 0.0 in labels with no predicted samples. Use `zero_division` parameter to control this behavior.\n",
      "  _warn_prf(average, modifier, msg_start, len(result))\n",
      "/root/miniconda3/lib/python3.8/site-packages/seqeval/metrics/v1.py:57: UndefinedMetricWarning: Precision and F-score are ill-defined and being set to 0.0 due to no predicted samples. Use `zero_division` parameter to control this behavior.\n",
      "  _warn_prf(average, modifier, msg_start, len(result))\n"
     ]
    },
    {
     "data": {
      "application/vnd.jupyter.widget-view+json": {
       "model_id": "1b3f6b8047a24493b7d9651afa3ae469",
       "version_major": 2,
       "version_minor": 0
      },
      "text/plain": [
       "  0%|          | 0/39 [00:00<?, ?it/s]"
      ]
     },
     "metadata": {},
     "output_type": "display_data"
    },
    {
     "data": {
      "application/vnd.jupyter.widget-view+json": {
       "model_id": "f80c34f50511475c9b9c0b0f3edcff2d",
       "version_major": 2,
       "version_minor": 0
      },
      "text/plain": [
       "  0%|          | 0/39 [00:00<?, ?it/s]"
      ]
     },
     "metadata": {},
     "output_type": "display_data"
    },
    {
     "name": "stdout",
     "output_type": "stream",
     "text": [
      "              precision    recall  f1-score   support\n",
      "\n",
      "         Cau       0.00      0.00      0.00        72\n",
      "         Met       0.00      0.00      0.00        74\n",
      "         Phe       0.00      0.00      0.00       201\n",
      "\n",
      "   micro avg       0.00      0.00      0.00       347\n",
      "   macro avg       0.00      0.00      0.00       347\n",
      "weighted avg       0.00      0.00      0.00       347\n",
      "\n",
      "Epoch 3/80\n",
      "-------------------------------\n"
     ]
    },
    {
     "data": {
      "application/vnd.jupyter.widget-view+json": {
       "model_id": "7cb13d570cfd453fbfc6a702105f3c9a",
       "version_major": 2,
       "version_minor": 0
      },
      "text/plain": [
       "  0%|          | 0/39 [00:00<?, ?it/s]"
      ]
     },
     "metadata": {},
     "output_type": "display_data"
    },
    {
     "data": {
      "application/vnd.jupyter.widget-view+json": {
       "model_id": "28fd2900d8f543f4ab2c6d83043cdbda",
       "version_major": 2,
       "version_minor": 0
      },
      "text/plain": [
       "  0%|          | 0/39 [00:00<?, ?it/s]"
      ]
     },
     "metadata": {},
     "output_type": "display_data"
    },
    {
     "name": "stdout",
     "output_type": "stream",
     "text": [
      "              precision    recall  f1-score   support\n",
      "\n",
      "         Cau       0.00      0.00      0.00        72\n",
      "         Met       0.00      0.00      0.00        74\n",
      "         Phe       0.00      0.00      0.00       201\n",
      "\n",
      "   micro avg       0.00      0.00      0.00       347\n",
      "   macro avg       0.00      0.00      0.00       347\n",
      "weighted avg       0.00      0.00      0.00       347\n",
      "\n",
      "Epoch 4/80\n",
      "-------------------------------\n"
     ]
    },
    {
     "data": {
      "application/vnd.jupyter.widget-view+json": {
       "model_id": "69bb4b1bcdfd49d1915d60ecd8374baf",
       "version_major": 2,
       "version_minor": 0
      },
      "text/plain": [
       "  0%|          | 0/39 [00:00<?, ?it/s]"
      ]
     },
     "metadata": {},
     "output_type": "display_data"
    },
    {
     "data": {
      "application/vnd.jupyter.widget-view+json": {
       "model_id": "cea7b1422d424dea9388e83815fd41f4",
       "version_major": 2,
       "version_minor": 0
      },
      "text/plain": [
       "  0%|          | 0/39 [00:00<?, ?it/s]"
      ]
     },
     "metadata": {},
     "output_type": "display_data"
    },
    {
     "name": "stdout",
     "output_type": "stream",
     "text": [
      "              precision    recall  f1-score   support\n",
      "\n",
      "         Cau       0.00      0.00      0.00        72\n",
      "         Met       0.00      0.00      0.00        74\n",
      "         Phe       0.00      0.00      0.00       201\n",
      "\n",
      "   micro avg       0.00      0.00      0.00       347\n",
      "   macro avg       0.00      0.00      0.00       347\n",
      "weighted avg       0.00      0.00      0.00       347\n",
      "\n",
      "Epoch 5/80\n",
      "-------------------------------\n"
     ]
    },
    {
     "data": {
      "application/vnd.jupyter.widget-view+json": {
       "model_id": "2e658cc91dba491c8214180a2b597dc1",
       "version_major": 2,
       "version_minor": 0
      },
      "text/plain": [
       "  0%|          | 0/39 [00:00<?, ?it/s]"
      ]
     },
     "metadata": {},
     "output_type": "display_data"
    },
    {
     "data": {
      "application/vnd.jupyter.widget-view+json": {
       "model_id": "fa60fae79e93460ca939a41e63954741",
       "version_major": 2,
       "version_minor": 0
      },
      "text/plain": [
       "  0%|          | 0/39 [00:00<?, ?it/s]"
      ]
     },
     "metadata": {},
     "output_type": "display_data"
    },
    {
     "name": "stdout",
     "output_type": "stream",
     "text": [
      "              precision    recall  f1-score   support\n",
      "\n",
      "         Cau       0.00      0.00      0.00        72\n",
      "         Met       0.00      0.00      0.00        74\n",
      "         Phe       0.00      0.00      0.00       201\n",
      "\n",
      "   micro avg       0.00      0.00      0.00       347\n",
      "   macro avg       0.00      0.00      0.00       347\n",
      "weighted avg       0.00      0.00      0.00       347\n",
      "\n",
      "Epoch 6/80\n",
      "-------------------------------\n"
     ]
    },
    {
     "data": {
      "application/vnd.jupyter.widget-view+json": {
       "model_id": "1ab96f19c2b04288b96a68aeca2f90a4",
       "version_major": 2,
       "version_minor": 0
      },
      "text/plain": [
       "  0%|          | 0/39 [00:00<?, ?it/s]"
      ]
     },
     "metadata": {},
     "output_type": "display_data"
    },
    {
     "data": {
      "application/vnd.jupyter.widget-view+json": {
       "model_id": "efa87cd9343d45fd913bb28294997ad3",
       "version_major": 2,
       "version_minor": 0
      },
      "text/plain": [
       "  0%|          | 0/39 [00:00<?, ?it/s]"
      ]
     },
     "metadata": {},
     "output_type": "display_data"
    },
    {
     "name": "stdout",
     "output_type": "stream",
     "text": [
      "              precision    recall  f1-score   support\n",
      "\n",
      "         Cau       0.00      0.00      0.00        72\n",
      "         Met       0.00      0.00      0.00        74\n",
      "         Phe       0.00      0.00      0.00       201\n",
      "\n",
      "   micro avg       0.00      0.00      0.00       347\n",
      "   macro avg       0.00      0.00      0.00       347\n",
      "weighted avg       0.00      0.00      0.00       347\n",
      "\n",
      "Epoch 7/80\n",
      "-------------------------------\n"
     ]
    },
    {
     "data": {
      "application/vnd.jupyter.widget-view+json": {
       "model_id": "8397b85513184f9799c0e426c414f2a8",
       "version_major": 2,
       "version_minor": 0
      },
      "text/plain": [
       "  0%|          | 0/39 [00:00<?, ?it/s]"
      ]
     },
     "metadata": {},
     "output_type": "display_data"
    },
    {
     "data": {
      "application/vnd.jupyter.widget-view+json": {
       "model_id": "af8d0ff8fac04ed8a2be22f550a5a908",
       "version_major": 2,
       "version_minor": 0
      },
      "text/plain": [
       "  0%|          | 0/39 [00:00<?, ?it/s]"
      ]
     },
     "metadata": {},
     "output_type": "display_data"
    },
    {
     "name": "stdout",
     "output_type": "stream",
     "text": [
      "              precision    recall  f1-score   support\n",
      "\n",
      "         Cau       0.00      0.00      0.00        72\n",
      "         Met       0.00      0.00      0.00        74\n",
      "         Phe       0.00      0.00      0.00       201\n",
      "\n",
      "   micro avg       0.00      0.00      0.00       347\n",
      "   macro avg       0.00      0.00      0.00       347\n",
      "weighted avg       0.00      0.00      0.00       347\n",
      "\n",
      "Epoch 8/80\n",
      "-------------------------------\n"
     ]
    },
    {
     "data": {
      "application/vnd.jupyter.widget-view+json": {
       "model_id": "987eeeea005847e6834889b6955928d2",
       "version_major": 2,
       "version_minor": 0
      },
      "text/plain": [
       "  0%|          | 0/39 [00:00<?, ?it/s]"
      ]
     },
     "metadata": {},
     "output_type": "display_data"
    },
    {
     "data": {
      "application/vnd.jupyter.widget-view+json": {
       "model_id": "88fc5bb0a8f044289fd84ecf3bef73b5",
       "version_major": 2,
       "version_minor": 0
      },
      "text/plain": [
       "  0%|          | 0/39 [00:00<?, ?it/s]"
      ]
     },
     "metadata": {},
     "output_type": "display_data"
    },
    {
     "name": "stdout",
     "output_type": "stream",
     "text": [
      "              precision    recall  f1-score   support\n",
      "\n",
      "         Cau       0.00      0.00      0.00        72\n",
      "         Met       0.00      0.00      0.00        74\n",
      "         Phe       0.00      0.00      0.00       201\n",
      "\n",
      "   micro avg       0.00      0.00      0.00       347\n",
      "   macro avg       0.00      0.00      0.00       347\n",
      "weighted avg       0.00      0.00      0.00       347\n",
      "\n",
      "Epoch 9/80\n",
      "-------------------------------\n"
     ]
    },
    {
     "data": {
      "application/vnd.jupyter.widget-view+json": {
       "model_id": "236743dca97f43459f23a94ec788ab2b",
       "version_major": 2,
       "version_minor": 0
      },
      "text/plain": [
       "  0%|          | 0/39 [00:00<?, ?it/s]"
      ]
     },
     "metadata": {},
     "output_type": "display_data"
    },
    {
     "data": {
      "application/vnd.jupyter.widget-view+json": {
       "model_id": "5478b53724ee43b480b0b027ba0fb774",
       "version_major": 2,
       "version_minor": 0
      },
      "text/plain": [
       "  0%|          | 0/39 [00:00<?, ?it/s]"
      ]
     },
     "metadata": {},
     "output_type": "display_data"
    },
    {
     "name": "stdout",
     "output_type": "stream",
     "text": [
      "              precision    recall  f1-score   support\n",
      "\n",
      "         Cau       0.00      0.00      0.00        72\n",
      "         Met       0.00      0.00      0.00        74\n",
      "         Phe       0.00      0.00      0.00       201\n",
      "\n",
      "   micro avg       0.00      0.00      0.00       347\n",
      "   macro avg       0.00      0.00      0.00       347\n",
      "weighted avg       0.00      0.00      0.00       347\n",
      "\n",
      "Epoch 10/80\n",
      "-------------------------------\n"
     ]
    },
    {
     "data": {
      "application/vnd.jupyter.widget-view+json": {
       "model_id": "53287319972e47218064475cbc1e8ecb",
       "version_major": 2,
       "version_minor": 0
      },
      "text/plain": [
       "  0%|          | 0/39 [00:00<?, ?it/s]"
      ]
     },
     "metadata": {},
     "output_type": "display_data"
    },
    {
     "data": {
      "application/vnd.jupyter.widget-view+json": {
       "model_id": "9145fea94b3542aea3de3aec6d25ca7f",
       "version_major": 2,
       "version_minor": 0
      },
      "text/plain": [
       "  0%|          | 0/39 [00:00<?, ?it/s]"
      ]
     },
     "metadata": {},
     "output_type": "display_data"
    },
    {
     "name": "stdout",
     "output_type": "stream",
     "text": [
      "              precision    recall  f1-score   support\n",
      "\n",
      "         Cau       0.00      0.00      0.00        72\n",
      "         Met       0.00      0.00      0.00        74\n",
      "         Phe       0.00      0.00      0.00       201\n",
      "\n",
      "   micro avg       0.00      0.00      0.00       347\n",
      "   macro avg       0.00      0.00      0.00       347\n",
      "weighted avg       0.00      0.00      0.00       347\n",
      "\n",
      "Epoch 11/80\n",
      "-------------------------------\n"
     ]
    },
    {
     "data": {
      "application/vnd.jupyter.widget-view+json": {
       "model_id": "62345ab6f2434f0a8a89a7e657f2294c",
       "version_major": 2,
       "version_minor": 0
      },
      "text/plain": [
       "  0%|          | 0/39 [00:00<?, ?it/s]"
      ]
     },
     "metadata": {},
     "output_type": "display_data"
    },
    {
     "data": {
      "application/vnd.jupyter.widget-view+json": {
       "model_id": "b4a1570e245c4650b96869c1f8257600",
       "version_major": 2,
       "version_minor": 0
      },
      "text/plain": [
       "  0%|          | 0/39 [00:00<?, ?it/s]"
      ]
     },
     "metadata": {},
     "output_type": "display_data"
    },
    {
     "name": "stdout",
     "output_type": "stream",
     "text": [
      "              precision    recall  f1-score   support\n",
      "\n",
      "         Cau       0.00      0.00      0.00        72\n",
      "         Met       0.00      0.00      0.00        74\n",
      "         Phe       0.00      0.00      0.00       201\n",
      "\n",
      "   micro avg       0.00      0.00      0.00       347\n",
      "   macro avg       0.00      0.00      0.00       347\n",
      "weighted avg       0.00      0.00      0.00       347\n",
      "\n",
      "Epoch 12/80\n",
      "-------------------------------\n"
     ]
    },
    {
     "data": {
      "application/vnd.jupyter.widget-view+json": {
       "model_id": "401849c6b2604646a268135979895f13",
       "version_major": 2,
       "version_minor": 0
      },
      "text/plain": [
       "  0%|          | 0/39 [00:00<?, ?it/s]"
      ]
     },
     "metadata": {},
     "output_type": "display_data"
    },
    {
     "data": {
      "application/vnd.jupyter.widget-view+json": {
       "model_id": "bcedaeee9a2b4258a9836116cf86ceca",
       "version_major": 2,
       "version_minor": 0
      },
      "text/plain": [
       "  0%|          | 0/39 [00:00<?, ?it/s]"
      ]
     },
     "metadata": {},
     "output_type": "display_data"
    },
    {
     "name": "stdout",
     "output_type": "stream",
     "text": [
      "              precision    recall  f1-score   support\n",
      "\n",
      "         Cau       0.00      0.00      0.00        72\n",
      "         Met       0.00      0.00      0.00        74\n",
      "         Phe       0.00      0.00      0.00       201\n",
      "\n",
      "   micro avg       0.00      0.00      0.00       347\n",
      "   macro avg       0.00      0.00      0.00       347\n",
      "weighted avg       0.00      0.00      0.00       347\n",
      "\n",
      "Epoch 13/80\n",
      "-------------------------------\n"
     ]
    },
    {
     "data": {
      "application/vnd.jupyter.widget-view+json": {
       "model_id": "2bb8c34621764e14acc12c3a92ef2788",
       "version_major": 2,
       "version_minor": 0
      },
      "text/plain": [
       "  0%|          | 0/39 [00:00<?, ?it/s]"
      ]
     },
     "metadata": {},
     "output_type": "display_data"
    },
    {
     "data": {
      "application/vnd.jupyter.widget-view+json": {
       "model_id": "d208679c55d14fafb0f4c41b08cbe5f2",
       "version_major": 2,
       "version_minor": 0
      },
      "text/plain": [
       "  0%|          | 0/39 [00:00<?, ?it/s]"
      ]
     },
     "metadata": {},
     "output_type": "display_data"
    },
    {
     "name": "stdout",
     "output_type": "stream",
     "text": [
      "              precision    recall  f1-score   support\n",
      "\n",
      "         Cau       0.00      0.00      0.00        72\n",
      "         Met       0.00      0.00      0.00        74\n",
      "         Phe       0.00      0.00      0.00       201\n",
      "\n",
      "   micro avg       0.00      0.00      0.00       347\n",
      "   macro avg       0.00      0.00      0.00       347\n",
      "weighted avg       0.00      0.00      0.00       347\n",
      "\n",
      "Epoch 14/80\n",
      "-------------------------------\n"
     ]
    },
    {
     "data": {
      "application/vnd.jupyter.widget-view+json": {
       "model_id": "51b2065ae91945d686dde15b2a158b73",
       "version_major": 2,
       "version_minor": 0
      },
      "text/plain": [
       "  0%|          | 0/39 [00:00<?, ?it/s]"
      ]
     },
     "metadata": {},
     "output_type": "display_data"
    },
    {
     "data": {
      "application/vnd.jupyter.widget-view+json": {
       "model_id": "804ca7a841e94fceb477baf3845cde19",
       "version_major": 2,
       "version_minor": 0
      },
      "text/plain": [
       "  0%|          | 0/39 [00:00<?, ?it/s]"
      ]
     },
     "metadata": {},
     "output_type": "display_data"
    },
    {
     "name": "stdout",
     "output_type": "stream",
     "text": [
      "              precision    recall  f1-score   support\n",
      "\n",
      "         Cau       0.00      0.00      0.00        72\n",
      "         Met       0.00      0.00      0.00        74\n",
      "         Phe       0.00      0.00      0.00       201\n",
      "\n",
      "   micro avg       0.00      0.00      0.00       347\n",
      "   macro avg       0.00      0.00      0.00       347\n",
      "weighted avg       0.00      0.00      0.00       347\n",
      "\n",
      "Epoch 15/80\n",
      "-------------------------------\n"
     ]
    },
    {
     "data": {
      "application/vnd.jupyter.widget-view+json": {
       "model_id": "50754dd2ed8f4435bbbad795fd155aad",
       "version_major": 2,
       "version_minor": 0
      },
      "text/plain": [
       "  0%|          | 0/39 [00:00<?, ?it/s]"
      ]
     },
     "metadata": {},
     "output_type": "display_data"
    },
    {
     "data": {
      "application/vnd.jupyter.widget-view+json": {
       "model_id": "a52717012f5741ce8cc75f7fdf7a9b35",
       "version_major": 2,
       "version_minor": 0
      },
      "text/plain": [
       "  0%|          | 0/39 [00:00<?, ?it/s]"
      ]
     },
     "metadata": {},
     "output_type": "display_data"
    },
    {
     "name": "stdout",
     "output_type": "stream",
     "text": [
      "              precision    recall  f1-score   support\n",
      "\n",
      "         Cau       0.00      0.00      0.00        72\n",
      "         Met       0.00      0.00      0.00        74\n",
      "         Phe       0.54      0.07      0.12       201\n",
      "\n",
      "   micro avg       0.54      0.04      0.08       347\n",
      "   macro avg       0.18      0.02      0.04       347\n",
      "weighted avg       0.31      0.04      0.07       347\n",
      "\n",
      "Epoch 16/80\n",
      "-------------------------------\n"
     ]
    },
    {
     "data": {
      "application/vnd.jupyter.widget-view+json": {
       "model_id": "239561b1bcab47f0a6508e4698a04024",
       "version_major": 2,
       "version_minor": 0
      },
      "text/plain": [
       "  0%|          | 0/39 [00:00<?, ?it/s]"
      ]
     },
     "metadata": {},
     "output_type": "display_data"
    },
    {
     "data": {
      "application/vnd.jupyter.widget-view+json": {
       "model_id": "ea8f2db39c284bad9403a7fd617b8184",
       "version_major": 2,
       "version_minor": 0
      },
      "text/plain": [
       "  0%|          | 0/39 [00:00<?, ?it/s]"
      ]
     },
     "metadata": {},
     "output_type": "display_data"
    },
    {
     "name": "stdout",
     "output_type": "stream",
     "text": [
      "              precision    recall  f1-score   support\n",
      "\n",
      "         Cau       0.00      0.00      0.00        72\n",
      "         Met       0.00      0.00      0.00        74\n",
      "         Phe       0.56      0.10      0.17       201\n",
      "\n",
      "   micro avg       0.56      0.06      0.10       347\n",
      "   macro avg       0.19      0.03      0.06       347\n",
      "weighted avg       0.32      0.06      0.10       347\n",
      "\n",
      "Epoch 17/80\n",
      "-------------------------------\n"
     ]
    },
    {
     "data": {
      "application/vnd.jupyter.widget-view+json": {
       "model_id": "ed48feafff254621bf0266e5852a4b0e",
       "version_major": 2,
       "version_minor": 0
      },
      "text/plain": [
       "  0%|          | 0/39 [00:00<?, ?it/s]"
      ]
     },
     "metadata": {},
     "output_type": "display_data"
    },
    {
     "data": {
      "application/vnd.jupyter.widget-view+json": {
       "model_id": "d2ed5e0845604382b93e05a51057a652",
       "version_major": 2,
       "version_minor": 0
      },
      "text/plain": [
       "  0%|          | 0/39 [00:00<?, ?it/s]"
      ]
     },
     "metadata": {},
     "output_type": "display_data"
    },
    {
     "name": "stdout",
     "output_type": "stream",
     "text": [
      "              precision    recall  f1-score   support\n",
      "\n",
      "         Cau       0.00      0.00      0.00        72\n",
      "         Met       0.00      0.00      0.00        74\n",
      "         Phe       0.69      0.24      0.35       201\n",
      "\n",
      "   micro avg       0.69      0.14      0.23       347\n",
      "   macro avg       0.23      0.08      0.12       347\n",
      "weighted avg       0.40      0.14      0.21       347\n",
      "\n",
      "Epoch 18/80\n",
      "-------------------------------\n"
     ]
    },
    {
     "data": {
      "application/vnd.jupyter.widget-view+json": {
       "model_id": "4531b145b4614645add67855a53e0109",
       "version_major": 2,
       "version_minor": 0
      },
      "text/plain": [
       "  0%|          | 0/39 [00:00<?, ?it/s]"
      ]
     },
     "metadata": {},
     "output_type": "display_data"
    },
    {
     "data": {
      "application/vnd.jupyter.widget-view+json": {
       "model_id": "06eb7ef5b6ef420e988145f2adbb8797",
       "version_major": 2,
       "version_minor": 0
      },
      "text/plain": [
       "  0%|          | 0/39 [00:00<?, ?it/s]"
      ]
     },
     "metadata": {},
     "output_type": "display_data"
    },
    {
     "name": "stdout",
     "output_type": "stream",
     "text": [
      "              precision    recall  f1-score   support\n",
      "\n",
      "         Cau       0.00      0.00      0.00        72\n",
      "         Met       0.00      0.00      0.00        74\n",
      "         Phe       0.69      0.27      0.39       201\n",
      "\n",
      "   micro avg       0.69      0.16      0.25       347\n",
      "   macro avg       0.23      0.09      0.13       347\n",
      "weighted avg       0.40      0.16      0.22       347\n",
      "\n",
      "Epoch 19/80\n",
      "-------------------------------\n"
     ]
    },
    {
     "data": {
      "application/vnd.jupyter.widget-view+json": {
       "model_id": "fb414933bd574f259d1c533257cde075",
       "version_major": 2,
       "version_minor": 0
      },
      "text/plain": [
       "  0%|          | 0/39 [00:00<?, ?it/s]"
      ]
     },
     "metadata": {},
     "output_type": "display_data"
    },
    {
     "data": {
      "application/vnd.jupyter.widget-view+json": {
       "model_id": "d272dbd1f811401f80e3423c66760f19",
       "version_major": 2,
       "version_minor": 0
      },
      "text/plain": [
       "  0%|          | 0/39 [00:00<?, ?it/s]"
      ]
     },
     "metadata": {},
     "output_type": "display_data"
    },
    {
     "name": "stdout",
     "output_type": "stream",
     "text": [
      "              precision    recall  f1-score   support\n",
      "\n",
      "         Cau       0.00      0.00      0.00        72\n",
      "         Met       0.00      0.00      0.00        74\n",
      "         Phe       0.74      0.39      0.51       201\n",
      "\n",
      "   micro avg       0.74      0.22      0.34       347\n",
      "   macro avg       0.25      0.13      0.17       347\n",
      "weighted avg       0.43      0.22      0.29       347\n",
      "\n",
      "Epoch 20/80\n",
      "-------------------------------\n"
     ]
    },
    {
     "data": {
      "application/vnd.jupyter.widget-view+json": {
       "model_id": "3a447a851fbe46bab60aa764fbcb2cae",
       "version_major": 2,
       "version_minor": 0
      },
      "text/plain": [
       "  0%|          | 0/39 [00:00<?, ?it/s]"
      ]
     },
     "metadata": {},
     "output_type": "display_data"
    },
    {
     "data": {
      "application/vnd.jupyter.widget-view+json": {
       "model_id": "4b297f3205484d87a7c434d364f04e7b",
       "version_major": 2,
       "version_minor": 0
      },
      "text/plain": [
       "  0%|          | 0/39 [00:00<?, ?it/s]"
      ]
     },
     "metadata": {},
     "output_type": "display_data"
    },
    {
     "name": "stdout",
     "output_type": "stream",
     "text": [
      "              precision    recall  f1-score   support\n",
      "\n",
      "         Cau       0.00      0.00      0.00        72\n",
      "         Met       0.00      0.00      0.00        74\n",
      "         Phe       0.72      0.42      0.53       201\n",
      "\n",
      "   micro avg       0.72      0.24      0.37       347\n",
      "   macro avg       0.24      0.14      0.18       347\n",
      "weighted avg       0.42      0.24      0.31       347\n",
      "\n",
      "Epoch 21/80\n",
      "-------------------------------\n"
     ]
    },
    {
     "data": {
      "application/vnd.jupyter.widget-view+json": {
       "model_id": "084d2762fb264448bf23677616383ba2",
       "version_major": 2,
       "version_minor": 0
      },
      "text/plain": [
       "  0%|          | 0/39 [00:00<?, ?it/s]"
      ]
     },
     "metadata": {},
     "output_type": "display_data"
    },
    {
     "data": {
      "application/vnd.jupyter.widget-view+json": {
       "model_id": "e51e2c3fbdf24f58a1bffc89ee281986",
       "version_major": 2,
       "version_minor": 0
      },
      "text/plain": [
       "  0%|          | 0/39 [00:00<?, ?it/s]"
      ]
     },
     "metadata": {},
     "output_type": "display_data"
    },
    {
     "name": "stdout",
     "output_type": "stream",
     "text": [
      "              precision    recall  f1-score   support\n",
      "\n",
      "         Cau       0.00      0.00      0.00        72\n",
      "         Met       0.00      0.00      0.00        74\n",
      "         Phe       0.74      0.45      0.56       201\n",
      "\n",
      "   micro avg       0.74      0.26      0.38       347\n",
      "   macro avg       0.25      0.15      0.19       347\n",
      "weighted avg       0.43      0.26      0.32       347\n",
      "\n",
      "Epoch 22/80\n",
      "-------------------------------\n"
     ]
    },
    {
     "data": {
      "application/vnd.jupyter.widget-view+json": {
       "model_id": "2754e81bc00d45faa2c38dedc13a3766",
       "version_major": 2,
       "version_minor": 0
      },
      "text/plain": [
       "  0%|          | 0/39 [00:00<?, ?it/s]"
      ]
     },
     "metadata": {},
     "output_type": "display_data"
    },
    {
     "data": {
      "application/vnd.jupyter.widget-view+json": {
       "model_id": "51a47ab06408470d9ed62f2291658593",
       "version_major": 2,
       "version_minor": 0
      },
      "text/plain": [
       "  0%|          | 0/39 [00:00<?, ?it/s]"
      ]
     },
     "metadata": {},
     "output_type": "display_data"
    },
    {
     "name": "stdout",
     "output_type": "stream",
     "text": [
      "              precision    recall  f1-score   support\n",
      "\n",
      "         Cau       0.00      0.00      0.00        72\n",
      "         Met       0.00      0.00      0.00        74\n",
      "         Phe       0.63      0.29      0.40       201\n",
      "\n",
      "   micro avg       0.63      0.17      0.27       347\n",
      "   macro avg       0.21      0.10      0.13       347\n",
      "weighted avg       0.37      0.17      0.23       347\n",
      "\n",
      "Epoch 23/80\n",
      "-------------------------------\n"
     ]
    },
    {
     "data": {
      "application/vnd.jupyter.widget-view+json": {
       "model_id": "39710f8aebae415094e483391591f92e",
       "version_major": 2,
       "version_minor": 0
      },
      "text/plain": [
       "  0%|          | 0/39 [00:00<?, ?it/s]"
      ]
     },
     "metadata": {},
     "output_type": "display_data"
    },
    {
     "data": {
      "application/vnd.jupyter.widget-view+json": {
       "model_id": "9475558a69a649baaba29b4462ac8cc5",
       "version_major": 2,
       "version_minor": 0
      },
      "text/plain": [
       "  0%|          | 0/39 [00:00<?, ?it/s]"
      ]
     },
     "metadata": {},
     "output_type": "display_data"
    },
    {
     "name": "stdout",
     "output_type": "stream",
     "text": [
      "              precision    recall  f1-score   support\n",
      "\n",
      "         Cau       0.00      0.00      0.00        72\n",
      "         Met       1.00      0.04      0.08        74\n",
      "         Phe       0.68      0.34      0.46       201\n",
      "\n",
      "   micro avg       0.69      0.21      0.32       347\n",
      "   macro avg       0.56      0.13      0.18       347\n",
      "weighted avg       0.61      0.21      0.28       347\n",
      "\n",
      "Epoch 24/80\n",
      "-------------------------------\n"
     ]
    },
    {
     "data": {
      "application/vnd.jupyter.widget-view+json": {
       "model_id": "68c152529987423f8eacc8bbef7d73f1",
       "version_major": 2,
       "version_minor": 0
      },
      "text/plain": [
       "  0%|          | 0/39 [00:00<?, ?it/s]"
      ]
     },
     "metadata": {},
     "output_type": "display_data"
    },
    {
     "data": {
      "application/vnd.jupyter.widget-view+json": {
       "model_id": "866de982aefa4235ac089088b312a00c",
       "version_major": 2,
       "version_minor": 0
      },
      "text/plain": [
       "  0%|          | 0/39 [00:00<?, ?it/s]"
      ]
     },
     "metadata": {},
     "output_type": "display_data"
    },
    {
     "name": "stdout",
     "output_type": "stream",
     "text": [
      "              precision    recall  f1-score   support\n",
      "\n",
      "         Cau       0.00      0.00      0.00        72\n",
      "         Met       0.75      0.12      0.21        74\n",
      "         Phe       0.74      0.44      0.55       201\n",
      "\n",
      "   micro avg       0.74      0.28      0.41       347\n",
      "   macro avg       0.50      0.19      0.25       347\n",
      "weighted avg       0.59      0.28      0.36       347\n",
      "\n",
      "Epoch 25/80\n",
      "-------------------------------\n"
     ]
    },
    {
     "data": {
      "application/vnd.jupyter.widget-view+json": {
       "model_id": "eb3cb81347744d0fb851684897a8d860",
       "version_major": 2,
       "version_minor": 0
      },
      "text/plain": [
       "  0%|          | 0/39 [00:00<?, ?it/s]"
      ]
     },
     "metadata": {},
     "output_type": "display_data"
    },
    {
     "data": {
      "application/vnd.jupyter.widget-view+json": {
       "model_id": "7260736301c04f0ba185154cfce4b5ef",
       "version_major": 2,
       "version_minor": 0
      },
      "text/plain": [
       "  0%|          | 0/39 [00:00<?, ?it/s]"
      ]
     },
     "metadata": {},
     "output_type": "display_data"
    },
    {
     "name": "stdout",
     "output_type": "stream",
     "text": [
      "              precision    recall  f1-score   support\n",
      "\n",
      "         Cau       0.00      0.00      0.00        72\n",
      "         Met       0.65      0.15      0.24        74\n",
      "         Phe       0.74      0.46      0.57       201\n",
      "\n",
      "   micro avg       0.73      0.30      0.43       347\n",
      "   macro avg       0.46      0.20      0.27       347\n",
      "weighted avg       0.57      0.30      0.38       347\n",
      "\n",
      "Epoch 26/80\n",
      "-------------------------------\n"
     ]
    },
    {
     "data": {
      "application/vnd.jupyter.widget-view+json": {
       "model_id": "ba8428947a2846a9837b9d3ed7f68ad5",
       "version_major": 2,
       "version_minor": 0
      },
      "text/plain": [
       "  0%|          | 0/39 [00:00<?, ?it/s]"
      ]
     },
     "metadata": {},
     "output_type": "display_data"
    },
    {
     "data": {
      "application/vnd.jupyter.widget-view+json": {
       "model_id": "9d75d9ecc91946f2938e22aa76fe47d9",
       "version_major": 2,
       "version_minor": 0
      },
      "text/plain": [
       "  0%|          | 0/39 [00:00<?, ?it/s]"
      ]
     },
     "metadata": {},
     "output_type": "display_data"
    },
    {
     "name": "stdout",
     "output_type": "stream",
     "text": [
      "              precision    recall  f1-score   support\n",
      "\n",
      "         Cau       0.75      0.17      0.27        72\n",
      "         Met       0.72      0.24      0.36        74\n",
      "         Phe       0.74      0.52      0.61       201\n",
      "\n",
      "   micro avg       0.74      0.39      0.51       347\n",
      "   macro avg       0.74      0.31      0.42       347\n",
      "weighted avg       0.74      0.39      0.49       347\n",
      "\n",
      "Epoch 27/80\n",
      "-------------------------------\n"
     ]
    },
    {
     "data": {
      "application/vnd.jupyter.widget-view+json": {
       "model_id": "36c020dada564164928c585350082154",
       "version_major": 2,
       "version_minor": 0
      },
      "text/plain": [
       "  0%|          | 0/39 [00:00<?, ?it/s]"
      ]
     },
     "metadata": {},
     "output_type": "display_data"
    },
    {
     "data": {
      "application/vnd.jupyter.widget-view+json": {
       "model_id": "ccaaade58a784ad28c678c8b48d48978",
       "version_major": 2,
       "version_minor": 0
      },
      "text/plain": [
       "  0%|          | 0/39 [00:00<?, ?it/s]"
      ]
     },
     "metadata": {},
     "output_type": "display_data"
    },
    {
     "name": "stdout",
     "output_type": "stream",
     "text": [
      "              precision    recall  f1-score   support\n",
      "\n",
      "         Cau       0.75      0.17      0.27        72\n",
      "         Met       0.70      0.26      0.38        74\n",
      "         Phe       0.76      0.53      0.62       201\n",
      "\n",
      "   micro avg       0.75      0.39      0.52       347\n",
      "   macro avg       0.74      0.32      0.42       347\n",
      "weighted avg       0.74      0.39      0.50       347\n",
      "\n",
      "Epoch 28/80\n",
      "-------------------------------\n"
     ]
    },
    {
     "data": {
      "application/vnd.jupyter.widget-view+json": {
       "model_id": "54db38c8c6c345e184c1e7abe69d3114",
       "version_major": 2,
       "version_minor": 0
      },
      "text/plain": [
       "  0%|          | 0/39 [00:00<?, ?it/s]"
      ]
     },
     "metadata": {},
     "output_type": "display_data"
    },
    {
     "data": {
      "application/vnd.jupyter.widget-view+json": {
       "model_id": "ff61820b22554bdd932e2e9ed66bae62",
       "version_major": 2,
       "version_minor": 0
      },
      "text/plain": [
       "  0%|          | 0/39 [00:00<?, ?it/s]"
      ]
     },
     "metadata": {},
     "output_type": "display_data"
    },
    {
     "name": "stdout",
     "output_type": "stream",
     "text": [
      "              precision    recall  f1-score   support\n",
      "\n",
      "         Cau       0.75      0.29      0.42        72\n",
      "         Met       0.67      0.27      0.38        74\n",
      "         Phe       0.81      0.56      0.66       201\n",
      "\n",
      "   micro avg       0.78      0.44      0.56       347\n",
      "   macro avg       0.74      0.37      0.49       347\n",
      "weighted avg       0.76      0.44      0.55       347\n",
      "\n",
      "Epoch 29/80\n",
      "-------------------------------\n"
     ]
    },
    {
     "data": {
      "application/vnd.jupyter.widget-view+json": {
       "model_id": "49f3701eb55d476885e91596b9164c77",
       "version_major": 2,
       "version_minor": 0
      },
      "text/plain": [
       "  0%|          | 0/39 [00:00<?, ?it/s]"
      ]
     },
     "metadata": {},
     "output_type": "display_data"
    },
    {
     "data": {
      "application/vnd.jupyter.widget-view+json": {
       "model_id": "d91f539f0da147a0ae9c3248e5eaad7c",
       "version_major": 2,
       "version_minor": 0
      },
      "text/plain": [
       "  0%|          | 0/39 [00:00<?, ?it/s]"
      ]
     },
     "metadata": {},
     "output_type": "display_data"
    },
    {
     "name": "stdout",
     "output_type": "stream",
     "text": [
      "              precision    recall  f1-score   support\n",
      "\n",
      "         Cau       0.68      0.35      0.46        72\n",
      "         Met       0.81      0.39      0.53        74\n",
      "         Phe       0.85      0.62      0.72       201\n",
      "\n",
      "   micro avg       0.81      0.52      0.63       347\n",
      "   macro avg       0.78      0.45      0.57       347\n",
      "weighted avg       0.80      0.52      0.62       347\n",
      "\n",
      "Epoch 30/80\n",
      "-------------------------------\n"
     ]
    },
    {
     "data": {
      "application/vnd.jupyter.widget-view+json": {
       "model_id": "987e7b49097e4f56a4f4c44007bde5a8",
       "version_major": 2,
       "version_minor": 0
      },
      "text/plain": [
       "  0%|          | 0/39 [00:00<?, ?it/s]"
      ]
     },
     "metadata": {},
     "output_type": "display_data"
    },
    {
     "data": {
      "application/vnd.jupyter.widget-view+json": {
       "model_id": "c312f242b0d5413ab308d9993d5b1156",
       "version_major": 2,
       "version_minor": 0
      },
      "text/plain": [
       "  0%|          | 0/39 [00:00<?, ?it/s]"
      ]
     },
     "metadata": {},
     "output_type": "display_data"
    },
    {
     "name": "stdout",
     "output_type": "stream",
     "text": [
      "              precision    recall  f1-score   support\n",
      "\n",
      "         Cau       0.79      0.51      0.62        72\n",
      "         Met       0.88      0.57      0.69        74\n",
      "         Phe       0.85      0.66      0.75       201\n",
      "\n",
      "   micro avg       0.84      0.61      0.71       347\n",
      "   macro avg       0.84      0.58      0.69       347\n",
      "weighted avg       0.84      0.61      0.71       347\n",
      "\n",
      "Epoch 31/80\n",
      "-------------------------------\n"
     ]
    },
    {
     "data": {
      "application/vnd.jupyter.widget-view+json": {
       "model_id": "164e0536da2044199dee2bf46ff9c28d",
       "version_major": 2,
       "version_minor": 0
      },
      "text/plain": [
       "  0%|          | 0/39 [00:00<?, ?it/s]"
      ]
     },
     "metadata": {},
     "output_type": "display_data"
    },
    {
     "data": {
      "application/vnd.jupyter.widget-view+json": {
       "model_id": "004beb046aed466999996a1e261fd57c",
       "version_major": 2,
       "version_minor": 0
      },
      "text/plain": [
       "  0%|          | 0/39 [00:00<?, ?it/s]"
      ]
     },
     "metadata": {},
     "output_type": "display_data"
    },
    {
     "name": "stdout",
     "output_type": "stream",
     "text": [
      "              precision    recall  f1-score   support\n",
      "\n",
      "         Cau       0.74      0.44      0.56        72\n",
      "         Met       0.81      0.57      0.67        74\n",
      "         Phe       0.76      0.60      0.67       201\n",
      "\n",
      "   micro avg       0.77      0.56      0.65       347\n",
      "   macro avg       0.77      0.54      0.63       347\n",
      "weighted avg       0.77      0.56      0.64       347\n",
      "\n",
      "Epoch 32/80\n",
      "-------------------------------\n"
     ]
    },
    {
     "data": {
      "application/vnd.jupyter.widget-view+json": {
       "model_id": "f84e7ad3dbdb4e6b98de2f5538c2141b",
       "version_major": 2,
       "version_minor": 0
      },
      "text/plain": [
       "  0%|          | 0/39 [00:00<?, ?it/s]"
      ]
     },
     "metadata": {},
     "output_type": "display_data"
    },
    {
     "data": {
      "application/vnd.jupyter.widget-view+json": {
       "model_id": "f21a06782940452882e5ed4daa3c10d7",
       "version_major": 2,
       "version_minor": 0
      },
      "text/plain": [
       "  0%|          | 0/39 [00:00<?, ?it/s]"
      ]
     },
     "metadata": {},
     "output_type": "display_data"
    },
    {
     "name": "stdout",
     "output_type": "stream",
     "text": [
      "              precision    recall  f1-score   support\n",
      "\n",
      "         Cau       0.78      0.53      0.63        72\n",
      "         Met       0.83      0.46      0.59        74\n",
      "         Phe       0.83      0.68      0.75       201\n",
      "\n",
      "   micro avg       0.82      0.60      0.69       347\n",
      "   macro avg       0.81      0.55      0.65       347\n",
      "weighted avg       0.82      0.60      0.69       347\n",
      "\n",
      "Epoch 33/80\n",
      "-------------------------------\n"
     ]
    },
    {
     "data": {
      "application/vnd.jupyter.widget-view+json": {
       "model_id": "c1ce552c65f84465bf3aa6f85c91311a",
       "version_major": 2,
       "version_minor": 0
      },
      "text/plain": [
       "  0%|          | 0/39 [00:00<?, ?it/s]"
      ]
     },
     "metadata": {},
     "output_type": "display_data"
    },
    {
     "data": {
      "application/vnd.jupyter.widget-view+json": {
       "model_id": "77e940cc32ff43ad858ea3d5ed57a2fb",
       "version_major": 2,
       "version_minor": 0
      },
      "text/plain": [
       "  0%|          | 0/39 [00:00<?, ?it/s]"
      ]
     },
     "metadata": {},
     "output_type": "display_data"
    },
    {
     "name": "stdout",
     "output_type": "stream",
     "text": [
      "              precision    recall  f1-score   support\n",
      "\n",
      "         Cau       0.78      0.60      0.68        72\n",
      "         Met       0.83      0.59      0.69        74\n",
      "         Phe       0.84      0.68      0.75       201\n",
      "\n",
      "   micro avg       0.82      0.65      0.72       347\n",
      "   macro avg       0.82      0.62      0.71       347\n",
      "weighted avg       0.82      0.65      0.72       347\n",
      "\n",
      "Epoch 34/80\n",
      "-------------------------------\n"
     ]
    },
    {
     "data": {
      "application/vnd.jupyter.widget-view+json": {
       "model_id": "c4eea6f9ac594627a66d8d9bd81e6ec7",
       "version_major": 2,
       "version_minor": 0
      },
      "text/plain": [
       "  0%|          | 0/39 [00:00<?, ?it/s]"
      ]
     },
     "metadata": {},
     "output_type": "display_data"
    },
    {
     "data": {
      "application/vnd.jupyter.widget-view+json": {
       "model_id": "3d657852fc5d44448e675d6e1f24fe4d",
       "version_major": 2,
       "version_minor": 0
      },
      "text/plain": [
       "  0%|          | 0/39 [00:00<?, ?it/s]"
      ]
     },
     "metadata": {},
     "output_type": "display_data"
    },
    {
     "name": "stdout",
     "output_type": "stream",
     "text": [
      "              precision    recall  f1-score   support\n",
      "\n",
      "         Cau       0.81      0.64      0.71        72\n",
      "         Met       0.81      0.59      0.69        74\n",
      "         Phe       0.84      0.65      0.73       201\n",
      "\n",
      "   micro avg       0.83      0.63      0.72       347\n",
      "   macro avg       0.82      0.63      0.71       347\n",
      "weighted avg       0.83      0.63      0.72       347\n",
      "\n",
      "Epoch 35/80\n",
      "-------------------------------\n"
     ]
    },
    {
     "data": {
      "application/vnd.jupyter.widget-view+json": {
       "model_id": "eac12ac2539d4d7bb083be5b192a2a2a",
       "version_major": 2,
       "version_minor": 0
      },
      "text/plain": [
       "  0%|          | 0/39 [00:00<?, ?it/s]"
      ]
     },
     "metadata": {},
     "output_type": "display_data"
    },
    {
     "data": {
      "application/vnd.jupyter.widget-view+json": {
       "model_id": "7d7ee11fba4e4a49a1607111e7e72840",
       "version_major": 2,
       "version_minor": 0
      },
      "text/plain": [
       "  0%|          | 0/39 [00:00<?, ?it/s]"
      ]
     },
     "metadata": {},
     "output_type": "display_data"
    },
    {
     "name": "stdout",
     "output_type": "stream",
     "text": [
      "              precision    recall  f1-score   support\n",
      "\n",
      "         Cau       0.83      0.61      0.70        72\n",
      "         Met       0.77      0.55      0.65        74\n",
      "         Phe       0.81      0.64      0.72       201\n",
      "\n",
      "   micro avg       0.81      0.62      0.70       347\n",
      "   macro avg       0.81      0.60      0.69       347\n",
      "weighted avg       0.81      0.62      0.70       347\n",
      "\n",
      "Epoch 36/80\n",
      "-------------------------------\n"
     ]
    },
    {
     "data": {
      "application/vnd.jupyter.widget-view+json": {
       "model_id": "3a554b9e99fe4cb1bfc0089482c15d2e",
       "version_major": 2,
       "version_minor": 0
      },
      "text/plain": [
       "  0%|          | 0/39 [00:00<?, ?it/s]"
      ]
     },
     "metadata": {},
     "output_type": "display_data"
    },
    {
     "data": {
      "application/vnd.jupyter.widget-view+json": {
       "model_id": "0eecd94f9c994d70b5e3aaad8ee97c1f",
       "version_major": 2,
       "version_minor": 0
      },
      "text/plain": [
       "  0%|          | 0/39 [00:00<?, ?it/s]"
      ]
     },
     "metadata": {},
     "output_type": "display_data"
    },
    {
     "name": "stdout",
     "output_type": "stream",
     "text": [
      "              precision    recall  f1-score   support\n",
      "\n",
      "         Cau       0.79      0.61      0.69        72\n",
      "         Met       0.80      0.58      0.67        74\n",
      "         Phe       0.88      0.72      0.79       201\n",
      "\n",
      "   micro avg       0.84      0.67      0.74       347\n",
      "   macro avg       0.82      0.64      0.72       347\n",
      "weighted avg       0.84      0.67      0.74       347\n",
      "\n",
      "Epoch 37/80\n",
      "-------------------------------\n"
     ]
    },
    {
     "data": {
      "application/vnd.jupyter.widget-view+json": {
       "model_id": "b2f05accb817443884920771befd4766",
       "version_major": 2,
       "version_minor": 0
      },
      "text/plain": [
       "  0%|          | 0/39 [00:00<?, ?it/s]"
      ]
     },
     "metadata": {},
     "output_type": "display_data"
    },
    {
     "data": {
      "application/vnd.jupyter.widget-view+json": {
       "model_id": "ed336181218944359908f3773c36261a",
       "version_major": 2,
       "version_minor": 0
      },
      "text/plain": [
       "  0%|          | 0/39 [00:00<?, ?it/s]"
      ]
     },
     "metadata": {},
     "output_type": "display_data"
    },
    {
     "name": "stdout",
     "output_type": "stream",
     "text": [
      "              precision    recall  f1-score   support\n",
      "\n",
      "         Cau       0.82      0.64      0.72        72\n",
      "         Met       0.79      0.55      0.65        74\n",
      "         Phe       0.83      0.66      0.74       201\n",
      "\n",
      "   micro avg       0.82      0.63      0.72       347\n",
      "   macro avg       0.81      0.62      0.70       347\n",
      "weighted avg       0.82      0.63      0.71       347\n",
      "\n",
      "Epoch 38/80\n",
      "-------------------------------\n"
     ]
    },
    {
     "data": {
      "application/vnd.jupyter.widget-view+json": {
       "model_id": "51035e81fb9e416c9d310151ec93d836",
       "version_major": 2,
       "version_minor": 0
      },
      "text/plain": [
       "  0%|          | 0/39 [00:00<?, ?it/s]"
      ]
     },
     "metadata": {},
     "output_type": "display_data"
    },
    {
     "data": {
      "application/vnd.jupyter.widget-view+json": {
       "model_id": "56f4aa4cf94942b7b23b9a43c457b809",
       "version_major": 2,
       "version_minor": 0
      },
      "text/plain": [
       "  0%|          | 0/39 [00:00<?, ?it/s]"
      ]
     },
     "metadata": {},
     "output_type": "display_data"
    },
    {
     "name": "stdout",
     "output_type": "stream",
     "text": [
      "              precision    recall  f1-score   support\n",
      "\n",
      "         Cau       0.79      0.62      0.70        72\n",
      "         Met       0.80      0.61      0.69        74\n",
      "         Phe       0.83      0.71      0.76       201\n",
      "\n",
      "   micro avg       0.82      0.67      0.74       347\n",
      "   macro avg       0.81      0.65      0.72       347\n",
      "weighted avg       0.82      0.67      0.73       347\n",
      "\n",
      "Epoch 39/80\n",
      "-------------------------------\n"
     ]
    },
    {
     "data": {
      "application/vnd.jupyter.widget-view+json": {
       "model_id": "307194dbaa7745d9b40cb1db453598d6",
       "version_major": 2,
       "version_minor": 0
      },
      "text/plain": [
       "  0%|          | 0/39 [00:00<?, ?it/s]"
      ]
     },
     "metadata": {},
     "output_type": "display_data"
    },
    {
     "data": {
      "application/vnd.jupyter.widget-view+json": {
       "model_id": "da54254b608a4ede9be8b01c65e3f558",
       "version_major": 2,
       "version_minor": 0
      },
      "text/plain": [
       "  0%|          | 0/39 [00:00<?, ?it/s]"
      ]
     },
     "metadata": {},
     "output_type": "display_data"
    },
    {
     "name": "stdout",
     "output_type": "stream",
     "text": [
      "              precision    recall  f1-score   support\n",
      "\n",
      "         Cau       0.83      0.67      0.74        72\n",
      "         Met       0.81      0.64      0.71        74\n",
      "         Phe       0.89      0.72      0.80       201\n",
      "\n",
      "   micro avg       0.86      0.69      0.77       347\n",
      "   macro avg       0.84      0.67      0.75       347\n",
      "weighted avg       0.86      0.69      0.77       347\n",
      "\n",
      "Epoch 40/80\n",
      "-------------------------------\n"
     ]
    },
    {
     "data": {
      "application/vnd.jupyter.widget-view+json": {
       "model_id": "9680f3fa8629410aa71e13f43208fd3a",
       "version_major": 2,
       "version_minor": 0
      },
      "text/plain": [
       "  0%|          | 0/39 [00:00<?, ?it/s]"
      ]
     },
     "metadata": {},
     "output_type": "display_data"
    },
    {
     "data": {
      "application/vnd.jupyter.widget-view+json": {
       "model_id": "4b562f9d08a54530ac5a4dbd0d50b8ae",
       "version_major": 2,
       "version_minor": 0
      },
      "text/plain": [
       "  0%|          | 0/39 [00:00<?, ?it/s]"
      ]
     },
     "metadata": {},
     "output_type": "display_data"
    },
    {
     "name": "stdout",
     "output_type": "stream",
     "text": [
      "              precision    recall  f1-score   support\n",
      "\n",
      "         Cau       0.83      0.68      0.75        72\n",
      "         Met       0.86      0.69      0.77        74\n",
      "         Phe       0.90      0.78      0.83       201\n",
      "\n",
      "   micro avg       0.88      0.74      0.80       347\n",
      "   macro avg       0.87      0.72      0.78       347\n",
      "weighted avg       0.88      0.74      0.80       347\n",
      "\n",
      "Epoch 41/80\n",
      "-------------------------------\n"
     ]
    },
    {
     "data": {
      "application/vnd.jupyter.widget-view+json": {
       "model_id": "669063613fad434caaae181b2fbc67be",
       "version_major": 2,
       "version_minor": 0
      },
      "text/plain": [
       "  0%|          | 0/39 [00:00<?, ?it/s]"
      ]
     },
     "metadata": {},
     "output_type": "display_data"
    },
    {
     "data": {
      "application/vnd.jupyter.widget-view+json": {
       "model_id": "872eceb5c3cf474badb493b2948cb473",
       "version_major": 2,
       "version_minor": 0
      },
      "text/plain": [
       "  0%|          | 0/39 [00:00<?, ?it/s]"
      ]
     },
     "metadata": {},
     "output_type": "display_data"
    },
    {
     "name": "stdout",
     "output_type": "stream",
     "text": [
      "              precision    recall  f1-score   support\n",
      "\n",
      "         Cau       0.88      0.74      0.80        72\n",
      "         Met       0.86      0.69      0.77        74\n",
      "         Phe       0.90      0.75      0.82       201\n",
      "\n",
      "   micro avg       0.89      0.73      0.80       347\n",
      "   macro avg       0.88      0.72      0.80       347\n",
      "weighted avg       0.89      0.73      0.80       347\n",
      "\n",
      "Epoch 42/80\n",
      "-------------------------------\n"
     ]
    },
    {
     "data": {
      "application/vnd.jupyter.widget-view+json": {
       "model_id": "4a17325b29ca4860ab58770ab0a3590c",
       "version_major": 2,
       "version_minor": 0
      },
      "text/plain": [
       "  0%|          | 0/39 [00:00<?, ?it/s]"
      ]
     },
     "metadata": {},
     "output_type": "display_data"
    },
    {
     "data": {
      "application/vnd.jupyter.widget-view+json": {
       "model_id": "c433bbdab84246d58b5722bb511cb186",
       "version_major": 2,
       "version_minor": 0
      },
      "text/plain": [
       "  0%|          | 0/39 [00:00<?, ?it/s]"
      ]
     },
     "metadata": {},
     "output_type": "display_data"
    },
    {
     "name": "stdout",
     "output_type": "stream",
     "text": [
      "              precision    recall  f1-score   support\n",
      "\n",
      "         Cau       0.89      0.71      0.79        72\n",
      "         Met       0.86      0.69      0.77        74\n",
      "         Phe       0.89      0.74      0.81       201\n",
      "\n",
      "   micro avg       0.89      0.72      0.79       347\n",
      "   macro avg       0.88      0.71      0.79       347\n",
      "weighted avg       0.89      0.72      0.79       347\n",
      "\n",
      "Epoch 43/80\n",
      "-------------------------------\n"
     ]
    },
    {
     "data": {
      "application/vnd.jupyter.widget-view+json": {
       "model_id": "d8be3ec811a144d09d3ef021ec03c9e9",
       "version_major": 2,
       "version_minor": 0
      },
      "text/plain": [
       "  0%|          | 0/39 [00:00<?, ?it/s]"
      ]
     },
     "metadata": {},
     "output_type": "display_data"
    },
    {
     "data": {
      "application/vnd.jupyter.widget-view+json": {
       "model_id": "d6b87485df7341cc83a4cb2a3c14230b",
       "version_major": 2,
       "version_minor": 0
      },
      "text/plain": [
       "  0%|          | 0/39 [00:00<?, ?it/s]"
      ]
     },
     "metadata": {},
     "output_type": "display_data"
    },
    {
     "name": "stdout",
     "output_type": "stream",
     "text": [
      "              precision    recall  f1-score   support\n",
      "\n",
      "         Cau       0.82      0.64      0.72        72\n",
      "         Met       0.83      0.68      0.75        74\n",
      "         Phe       0.92      0.75      0.83       201\n",
      "\n",
      "   micro avg       0.88      0.71      0.79       347\n",
      "   macro avg       0.86      0.69      0.76       347\n",
      "weighted avg       0.88      0.71      0.79       347\n",
      "\n",
      "Epoch 44/80\n",
      "-------------------------------\n"
     ]
    },
    {
     "data": {
      "application/vnd.jupyter.widget-view+json": {
       "model_id": "bdcbfcee89d74821989cc7f202fae9b5",
       "version_major": 2,
       "version_minor": 0
      },
      "text/plain": [
       "  0%|          | 0/39 [00:00<?, ?it/s]"
      ]
     },
     "metadata": {},
     "output_type": "display_data"
    },
    {
     "data": {
      "application/vnd.jupyter.widget-view+json": {
       "model_id": "c1abd7734c374b4ab7f92c0388dde1c0",
       "version_major": 2,
       "version_minor": 0
      },
      "text/plain": [
       "  0%|          | 0/39 [00:00<?, ?it/s]"
      ]
     },
     "metadata": {},
     "output_type": "display_data"
    },
    {
     "name": "stdout",
     "output_type": "stream",
     "text": [
      "              precision    recall  f1-score   support\n",
      "\n",
      "         Cau       0.88      0.71      0.78        72\n",
      "         Met       0.87      0.70      0.78        74\n",
      "         Phe       0.89      0.74      0.81       201\n",
      "\n",
      "   micro avg       0.88      0.73      0.80       347\n",
      "   macro avg       0.88      0.72      0.79       347\n",
      "weighted avg       0.88      0.73      0.80       347\n",
      "\n",
      "Epoch 45/80\n",
      "-------------------------------\n"
     ]
    },
    {
     "data": {
      "application/vnd.jupyter.widget-view+json": {
       "model_id": "7aea3b02b9d84a53b33074e45edd582f",
       "version_major": 2,
       "version_minor": 0
      },
      "text/plain": [
       "  0%|          | 0/39 [00:00<?, ?it/s]"
      ]
     },
     "metadata": {},
     "output_type": "display_data"
    },
    {
     "data": {
      "application/vnd.jupyter.widget-view+json": {
       "model_id": "424c4b1aeecd4d939ef4dae0ddf5867d",
       "version_major": 2,
       "version_minor": 0
      },
      "text/plain": [
       "  0%|          | 0/39 [00:00<?, ?it/s]"
      ]
     },
     "metadata": {},
     "output_type": "display_data"
    },
    {
     "name": "stdout",
     "output_type": "stream",
     "text": [
      "              precision    recall  f1-score   support\n",
      "\n",
      "         Cau       0.84      0.65      0.73        72\n",
      "         Met       0.85      0.68      0.75        74\n",
      "         Phe       0.89      0.73      0.80       201\n",
      "\n",
      "   micro avg       0.87      0.70      0.78       347\n",
      "   macro avg       0.86      0.69      0.76       347\n",
      "weighted avg       0.87      0.70      0.78       347\n",
      "\n",
      "Epoch 46/80\n",
      "-------------------------------\n"
     ]
    },
    {
     "data": {
      "application/vnd.jupyter.widget-view+json": {
       "model_id": "de7c55d1ff6d49ddba80f98e1ce013c1",
       "version_major": 2,
       "version_minor": 0
      },
      "text/plain": [
       "  0%|          | 0/39 [00:00<?, ?it/s]"
      ]
     },
     "metadata": {},
     "output_type": "display_data"
    },
    {
     "data": {
      "application/vnd.jupyter.widget-view+json": {
       "model_id": "21ce8ae948c24e0cae952e6520b23883",
       "version_major": 2,
       "version_minor": 0
      },
      "text/plain": [
       "  0%|          | 0/39 [00:00<?, ?it/s]"
      ]
     },
     "metadata": {},
     "output_type": "display_data"
    },
    {
     "name": "stdout",
     "output_type": "stream",
     "text": [
      "              precision    recall  f1-score   support\n",
      "\n",
      "         Cau       0.86      0.68      0.76        72\n",
      "         Met       0.85      0.68      0.75        74\n",
      "         Phe       0.90      0.75      0.82       201\n",
      "\n",
      "   micro avg       0.88      0.72      0.79       347\n",
      "   macro avg       0.87      0.70      0.78       347\n",
      "weighted avg       0.88      0.72      0.79       347\n",
      "\n",
      "Epoch 47/80\n",
      "-------------------------------\n"
     ]
    },
    {
     "data": {
      "application/vnd.jupyter.widget-view+json": {
       "model_id": "f4f73e0f5c5147cd804885c9a46c006d",
       "version_major": 2,
       "version_minor": 0
      },
      "text/plain": [
       "  0%|          | 0/39 [00:00<?, ?it/s]"
      ]
     },
     "metadata": {},
     "output_type": "display_data"
    },
    {
     "data": {
      "application/vnd.jupyter.widget-view+json": {
       "model_id": "9a3aceadd91141919389ae98f3b2b093",
       "version_major": 2,
       "version_minor": 0
      },
      "text/plain": [
       "  0%|          | 0/39 [00:00<?, ?it/s]"
      ]
     },
     "metadata": {},
     "output_type": "display_data"
    },
    {
     "name": "stdout",
     "output_type": "stream",
     "text": [
      "              precision    recall  f1-score   support\n",
      "\n",
      "         Cau       0.91      0.82      0.86        72\n",
      "         Met       0.85      0.68      0.75        74\n",
      "         Phe       0.93      0.78      0.85       201\n",
      "\n",
      "   micro avg       0.91      0.76      0.83       347\n",
      "   macro avg       0.89      0.76      0.82       347\n",
      "weighted avg       0.91      0.76      0.83       347\n",
      "\n",
      "Epoch 48/80\n",
      "-------------------------------\n"
     ]
    },
    {
     "data": {
      "application/vnd.jupyter.widget-view+json": {
       "model_id": "1668db714b164143a8cce1bbc8496d42",
       "version_major": 2,
       "version_minor": 0
      },
      "text/plain": [
       "  0%|          | 0/39 [00:00<?, ?it/s]"
      ]
     },
     "metadata": {},
     "output_type": "display_data"
    },
    {
     "data": {
      "application/vnd.jupyter.widget-view+json": {
       "model_id": "499cbbf986ca44a19c1a96a04f632ae9",
       "version_major": 2,
       "version_minor": 0
      },
      "text/plain": [
       "  0%|          | 0/39 [00:00<?, ?it/s]"
      ]
     },
     "metadata": {},
     "output_type": "display_data"
    },
    {
     "name": "stdout",
     "output_type": "stream",
     "text": [
      "              precision    recall  f1-score   support\n",
      "\n",
      "         Cau       0.92      0.81      0.86        72\n",
      "         Met       0.84      0.70      0.76        74\n",
      "         Phe       0.92      0.76      0.83       201\n",
      "\n",
      "   micro avg       0.90      0.76      0.82       347\n",
      "   macro avg       0.89      0.76      0.82       347\n",
      "weighted avg       0.90      0.76      0.82       347\n",
      "\n",
      "Epoch 49/80\n",
      "-------------------------------\n"
     ]
    },
    {
     "data": {
      "application/vnd.jupyter.widget-view+json": {
       "model_id": "6c5c655a2ebd481a8226c2fa82d1e3ec",
       "version_major": 2,
       "version_minor": 0
      },
      "text/plain": [
       "  0%|          | 0/39 [00:00<?, ?it/s]"
      ]
     },
     "metadata": {},
     "output_type": "display_data"
    },
    {
     "data": {
      "application/vnd.jupyter.widget-view+json": {
       "model_id": "a5dd5434c54740178999b788a50e3cc4",
       "version_major": 2,
       "version_minor": 0
      },
      "text/plain": [
       "  0%|          | 0/39 [00:00<?, ?it/s]"
      ]
     },
     "metadata": {},
     "output_type": "display_data"
    },
    {
     "name": "stdout",
     "output_type": "stream",
     "text": [
      "              precision    recall  f1-score   support\n",
      "\n",
      "         Cau       0.90      0.78      0.84        72\n",
      "         Met       0.82      0.69      0.75        74\n",
      "         Phe       0.93      0.78      0.85       201\n",
      "\n",
      "   micro avg       0.90      0.76      0.82       347\n",
      "   macro avg       0.88      0.75      0.81       347\n",
      "weighted avg       0.90      0.76      0.82       347\n",
      "\n",
      "Epoch 50/80\n",
      "-------------------------------\n"
     ]
    },
    {
     "data": {
      "application/vnd.jupyter.widget-view+json": {
       "model_id": "aed29b91e4354d70bbbc81e693139ccf",
       "version_major": 2,
       "version_minor": 0
      },
      "text/plain": [
       "  0%|          | 0/39 [00:00<?, ?it/s]"
      ]
     },
     "metadata": {},
     "output_type": "display_data"
    },
    {
     "data": {
      "application/vnd.jupyter.widget-view+json": {
       "model_id": "c567589d91df497ab2d59670d089d92b",
       "version_major": 2,
       "version_minor": 0
      },
      "text/plain": [
       "  0%|          | 0/39 [00:00<?, ?it/s]"
      ]
     },
     "metadata": {},
     "output_type": "display_data"
    },
    {
     "name": "stdout",
     "output_type": "stream",
     "text": [
      "              precision    recall  f1-score   support\n",
      "\n",
      "         Cau       0.92      0.79      0.85        72\n",
      "         Met       0.84      0.69      0.76        74\n",
      "         Phe       0.89      0.74      0.81       201\n",
      "\n",
      "   micro avg       0.89      0.74      0.81       347\n",
      "   macro avg       0.88      0.74      0.81       347\n",
      "weighted avg       0.89      0.74      0.81       347\n",
      "\n",
      "Epoch 51/80\n",
      "-------------------------------\n"
     ]
    },
    {
     "data": {
      "application/vnd.jupyter.widget-view+json": {
       "model_id": "d56384390bf14349b739d8aa3d7a66d6",
       "version_major": 2,
       "version_minor": 0
      },
      "text/plain": [
       "  0%|          | 0/39 [00:00<?, ?it/s]"
      ]
     },
     "metadata": {},
     "output_type": "display_data"
    },
    {
     "data": {
      "application/vnd.jupyter.widget-view+json": {
       "model_id": "d83854dd85674f4dbc792e189076159c",
       "version_major": 2,
       "version_minor": 0
      },
      "text/plain": [
       "  0%|          | 0/39 [00:00<?, ?it/s]"
      ]
     },
     "metadata": {},
     "output_type": "display_data"
    },
    {
     "name": "stdout",
     "output_type": "stream",
     "text": [
      "              precision    recall  f1-score   support\n",
      "\n",
      "         Cau       0.90      0.79      0.84        72\n",
      "         Met       0.87      0.73      0.79        74\n",
      "         Phe       0.89      0.85      0.87       201\n",
      "\n",
      "   micro avg       0.89      0.81      0.85       347\n",
      "   macro avg       0.89      0.79      0.84       347\n",
      "weighted avg       0.89      0.81      0.85       347\n",
      "\n",
      "Epoch 52/80\n",
      "-------------------------------\n"
     ]
    },
    {
     "data": {
      "application/vnd.jupyter.widget-view+json": {
       "model_id": "7498bb6a709a4aa5b2a2a606a5a859cc",
       "version_major": 2,
       "version_minor": 0
      },
      "text/plain": [
       "  0%|          | 0/39 [00:00<?, ?it/s]"
      ]
     },
     "metadata": {},
     "output_type": "display_data"
    },
    {
     "data": {
      "application/vnd.jupyter.widget-view+json": {
       "model_id": "c787cf0af1ff491486a66bdaf1f4a8b2",
       "version_major": 2,
       "version_minor": 0
      },
      "text/plain": [
       "  0%|          | 0/39 [00:00<?, ?it/s]"
      ]
     },
     "metadata": {},
     "output_type": "display_data"
    },
    {
     "name": "stdout",
     "output_type": "stream",
     "text": [
      "              precision    recall  f1-score   support\n",
      "\n",
      "         Cau       0.91      0.85      0.88        72\n",
      "         Met       0.87      0.73      0.79        74\n",
      "         Phe       0.93      0.79      0.85       201\n",
      "\n",
      "   micro avg       0.91      0.79      0.85       347\n",
      "   macro avg       0.90      0.79      0.84       347\n",
      "weighted avg       0.91      0.79      0.85       347\n",
      "\n",
      "Epoch 53/80\n",
      "-------------------------------\n"
     ]
    },
    {
     "data": {
      "application/vnd.jupyter.widget-view+json": {
       "model_id": "f152244f6cba46d3a0ca830bcbd9998d",
       "version_major": 2,
       "version_minor": 0
      },
      "text/plain": [
       "  0%|          | 0/39 [00:00<?, ?it/s]"
      ]
     },
     "metadata": {},
     "output_type": "display_data"
    },
    {
     "data": {
      "application/vnd.jupyter.widget-view+json": {
       "model_id": "07fb620264664f5b831027d4eca9c275",
       "version_major": 2,
       "version_minor": 0
      },
      "text/plain": [
       "  0%|          | 0/39 [00:00<?, ?it/s]"
      ]
     },
     "metadata": {},
     "output_type": "display_data"
    },
    {
     "name": "stdout",
     "output_type": "stream",
     "text": [
      "              precision    recall  f1-score   support\n",
      "\n",
      "         Cau       0.88      0.79      0.83        72\n",
      "         Met       0.85      0.72      0.78        74\n",
      "         Phe       0.93      0.78      0.85       201\n",
      "\n",
      "   micro avg       0.90      0.77      0.83       347\n",
      "   macro avg       0.89      0.76      0.82       347\n",
      "weighted avg       0.91      0.77      0.83       347\n",
      "\n",
      "Epoch 54/80\n",
      "-------------------------------\n"
     ]
    },
    {
     "data": {
      "application/vnd.jupyter.widget-view+json": {
       "model_id": "54a8b740cbae483bb337a2b7165ecdf6",
       "version_major": 2,
       "version_minor": 0
      },
      "text/plain": [
       "  0%|          | 0/39 [00:00<?, ?it/s]"
      ]
     },
     "metadata": {},
     "output_type": "display_data"
    },
    {
     "data": {
      "application/vnd.jupyter.widget-view+json": {
       "model_id": "b30d518abbf94f1db2786f08454abe0d",
       "version_major": 2,
       "version_minor": 0
      },
      "text/plain": [
       "  0%|          | 0/39 [00:00<?, ?it/s]"
      ]
     },
     "metadata": {},
     "output_type": "display_data"
    },
    {
     "name": "stdout",
     "output_type": "stream",
     "text": [
      "              precision    recall  f1-score   support\n",
      "\n",
      "         Cau       0.89      0.82      0.86        72\n",
      "         Met       0.86      0.73      0.79        74\n",
      "         Phe       0.92      0.82      0.87       201\n",
      "\n",
      "   micro avg       0.90      0.80      0.85       347\n",
      "   macro avg       0.89      0.79      0.84       347\n",
      "weighted avg       0.90      0.80      0.85       347\n",
      "\n",
      "Epoch 55/80\n",
      "-------------------------------\n"
     ]
    },
    {
     "data": {
      "application/vnd.jupyter.widget-view+json": {
       "model_id": "7f88229f928e4917aadcefe5f0880e9d",
       "version_major": 2,
       "version_minor": 0
      },
      "text/plain": [
       "  0%|          | 0/39 [00:00<?, ?it/s]"
      ]
     },
     "metadata": {},
     "output_type": "display_data"
    },
    {
     "data": {
      "application/vnd.jupyter.widget-view+json": {
       "model_id": "d8d332b9bb0844f49486c7e9499d1801",
       "version_major": 2,
       "version_minor": 0
      },
      "text/plain": [
       "  0%|          | 0/39 [00:00<?, ?it/s]"
      ]
     },
     "metadata": {},
     "output_type": "display_data"
    },
    {
     "name": "stdout",
     "output_type": "stream",
     "text": [
      "              precision    recall  f1-score   support\n",
      "\n",
      "         Cau       0.93      0.88      0.90        72\n",
      "         Met       0.89      0.76      0.82        74\n",
      "         Phe       0.88      0.74      0.80       201\n",
      "\n",
      "   micro avg       0.89      0.77      0.83       347\n",
      "   macro avg       0.90      0.79      0.84       347\n",
      "weighted avg       0.89      0.77      0.83       347\n",
      "\n",
      "Epoch 56/80\n",
      "-------------------------------\n"
     ]
    },
    {
     "data": {
      "application/vnd.jupyter.widget-view+json": {
       "model_id": "a75243b3971542d1884439b18ab2885c",
       "version_major": 2,
       "version_minor": 0
      },
      "text/plain": [
       "  0%|          | 0/39 [00:00<?, ?it/s]"
      ]
     },
     "metadata": {},
     "output_type": "display_data"
    },
    {
     "data": {
      "application/vnd.jupyter.widget-view+json": {
       "model_id": "6fc02159bf7048908df2b6437fb580f8",
       "version_major": 2,
       "version_minor": 0
      },
      "text/plain": [
       "  0%|          | 0/39 [00:00<?, ?it/s]"
      ]
     },
     "metadata": {},
     "output_type": "display_data"
    },
    {
     "name": "stdout",
     "output_type": "stream",
     "text": [
      "              precision    recall  f1-score   support\n",
      "\n",
      "         Cau       0.93      0.88      0.90        72\n",
      "         Met       0.89      0.78      0.83        74\n",
      "         Phe       0.94      0.80      0.86       201\n",
      "\n",
      "   micro avg       0.93      0.81      0.86       347\n",
      "   macro avg       0.92      0.82      0.87       347\n",
      "weighted avg       0.93      0.81      0.86       347\n",
      "\n",
      "Epoch 57/80\n",
      "-------------------------------\n"
     ]
    },
    {
     "data": {
      "application/vnd.jupyter.widget-view+json": {
       "model_id": "7b60c5837b6b4c29b394edb0fa43e1e4",
       "version_major": 2,
       "version_minor": 0
      },
      "text/plain": [
       "  0%|          | 0/39 [00:00<?, ?it/s]"
      ]
     },
     "metadata": {},
     "output_type": "display_data"
    },
    {
     "data": {
      "application/vnd.jupyter.widget-view+json": {
       "model_id": "bf8d5486c2f7494cac96351cc483153d",
       "version_major": 2,
       "version_minor": 0
      },
      "text/plain": [
       "  0%|          | 0/39 [00:00<?, ?it/s]"
      ]
     },
     "metadata": {},
     "output_type": "display_data"
    },
    {
     "name": "stdout",
     "output_type": "stream",
     "text": [
      "              precision    recall  f1-score   support\n",
      "\n",
      "         Cau       0.91      0.81      0.85        72\n",
      "         Met       0.86      0.74      0.80        74\n",
      "         Phe       0.96      0.78      0.86       201\n",
      "\n",
      "   micro avg       0.92      0.78      0.84       347\n",
      "   macro avg       0.91      0.77      0.84       347\n",
      "weighted avg       0.93      0.78      0.84       347\n",
      "\n",
      "Epoch 58/80\n",
      "-------------------------------\n"
     ]
    },
    {
     "data": {
      "application/vnd.jupyter.widget-view+json": {
       "model_id": "4964e8669d984c819de71832579c9ca8",
       "version_major": 2,
       "version_minor": 0
      },
      "text/plain": [
       "  0%|          | 0/39 [00:00<?, ?it/s]"
      ]
     },
     "metadata": {},
     "output_type": "display_data"
    },
    {
     "data": {
      "application/vnd.jupyter.widget-view+json": {
       "model_id": "b03591ad1f1f40f3a0cc8e4d4a7b6a7a",
       "version_major": 2,
       "version_minor": 0
      },
      "text/plain": [
       "  0%|          | 0/39 [00:00<?, ?it/s]"
      ]
     },
     "metadata": {},
     "output_type": "display_data"
    },
    {
     "name": "stdout",
     "output_type": "stream",
     "text": [
      "              precision    recall  f1-score   support\n",
      "\n",
      "         Cau       0.92      0.81      0.86        72\n",
      "         Met       0.86      0.73      0.79        74\n",
      "         Phe       0.95      0.78      0.85       201\n",
      "\n",
      "   micro avg       0.92      0.77      0.84       347\n",
      "   macro avg       0.91      0.77      0.83       347\n",
      "weighted avg       0.92      0.77      0.84       347\n",
      "\n",
      "Epoch 59/80\n",
      "-------------------------------\n"
     ]
    },
    {
     "data": {
      "application/vnd.jupyter.widget-view+json": {
       "model_id": "e6412887da4b41cba59488799c6b870c",
       "version_major": 2,
       "version_minor": 0
      },
      "text/plain": [
       "  0%|          | 0/39 [00:00<?, ?it/s]"
      ]
     },
     "metadata": {},
     "output_type": "display_data"
    },
    {
     "data": {
      "application/vnd.jupyter.widget-view+json": {
       "model_id": "46994be4a8f94b52a9a2aadef1fe0df8",
       "version_major": 2,
       "version_minor": 0
      },
      "text/plain": [
       "  0%|          | 0/39 [00:00<?, ?it/s]"
      ]
     },
     "metadata": {},
     "output_type": "display_data"
    },
    {
     "name": "stdout",
     "output_type": "stream",
     "text": [
      "              precision    recall  f1-score   support\n",
      "\n",
      "         Cau       0.94      0.88      0.91        72\n",
      "         Met       0.86      0.77      0.81        74\n",
      "         Phe       0.94      0.81      0.87       201\n",
      "\n",
      "   micro avg       0.92      0.81      0.86       347\n",
      "   macro avg       0.91      0.82      0.86       347\n",
      "weighted avg       0.92      0.81      0.86       347\n",
      "\n",
      "Epoch 60/80\n",
      "-------------------------------\n"
     ]
    },
    {
     "data": {
      "application/vnd.jupyter.widget-view+json": {
       "model_id": "864fe7b0e29a46ffbb961928077bc614",
       "version_major": 2,
       "version_minor": 0
      },
      "text/plain": [
       "  0%|          | 0/39 [00:00<?, ?it/s]"
      ]
     },
     "metadata": {},
     "output_type": "display_data"
    },
    {
     "data": {
      "application/vnd.jupyter.widget-view+json": {
       "model_id": "24e106a43f6d4987bf392db107037fae",
       "version_major": 2,
       "version_minor": 0
      },
      "text/plain": [
       "  0%|          | 0/39 [00:00<?, ?it/s]"
      ]
     },
     "metadata": {},
     "output_type": "display_data"
    },
    {
     "name": "stdout",
     "output_type": "stream",
     "text": [
      "              precision    recall  f1-score   support\n",
      "\n",
      "         Cau       0.93      0.86      0.89        72\n",
      "         Met       0.90      0.81      0.85        74\n",
      "         Phe       0.94      0.83      0.88       201\n",
      "\n",
      "   micro avg       0.93      0.83      0.88       347\n",
      "   macro avg       0.92      0.83      0.88       347\n",
      "weighted avg       0.93      0.83      0.88       347\n",
      "\n",
      "Epoch 61/80\n",
      "-------------------------------\n"
     ]
    },
    {
     "data": {
      "application/vnd.jupyter.widget-view+json": {
       "model_id": "ce7c6227e0ff489f91ce479e94e44f3a",
       "version_major": 2,
       "version_minor": 0
      },
      "text/plain": [
       "  0%|          | 0/39 [00:00<?, ?it/s]"
      ]
     },
     "metadata": {},
     "output_type": "display_data"
    },
    {
     "data": {
      "application/vnd.jupyter.widget-view+json": {
       "model_id": "9959bc65bb814eef8a6331f772ffbfad",
       "version_major": 2,
       "version_minor": 0
      },
      "text/plain": [
       "  0%|          | 0/39 [00:00<?, ?it/s]"
      ]
     },
     "metadata": {},
     "output_type": "display_data"
    },
    {
     "name": "stdout",
     "output_type": "stream",
     "text": [
      "              precision    recall  f1-score   support\n",
      "\n",
      "         Cau       0.94      0.86      0.90        72\n",
      "         Met       0.90      0.81      0.85        74\n",
      "         Phe       0.95      0.84      0.89       201\n",
      "\n",
      "   micro avg       0.94      0.84      0.88       347\n",
      "   macro avg       0.93      0.84      0.88       347\n",
      "weighted avg       0.94      0.84      0.88       347\n",
      "\n",
      "Epoch 62/80\n",
      "-------------------------------\n"
     ]
    },
    {
     "data": {
      "application/vnd.jupyter.widget-view+json": {
       "model_id": "8f2f7077f4dd427aaf4d575327187ed4",
       "version_major": 2,
       "version_minor": 0
      },
      "text/plain": [
       "  0%|          | 0/39 [00:00<?, ?it/s]"
      ]
     },
     "metadata": {},
     "output_type": "display_data"
    },
    {
     "data": {
      "application/vnd.jupyter.widget-view+json": {
       "model_id": "c02f07ab557348098b987d749c9545fd",
       "version_major": 2,
       "version_minor": 0
      },
      "text/plain": [
       "  0%|          | 0/39 [00:00<?, ?it/s]"
      ]
     },
     "metadata": {},
     "output_type": "display_data"
    },
    {
     "name": "stdout",
     "output_type": "stream",
     "text": [
      "              precision    recall  f1-score   support\n",
      "\n",
      "         Cau       0.92      0.85      0.88        72\n",
      "         Met       0.91      0.82      0.87        74\n",
      "         Phe       0.94      0.77      0.85       201\n",
      "\n",
      "   micro avg       0.93      0.80      0.86       347\n",
      "   macro avg       0.93      0.81      0.87       347\n",
      "weighted avg       0.93      0.80      0.86       347\n",
      "\n",
      "Epoch 63/80\n",
      "-------------------------------\n"
     ]
    },
    {
     "data": {
      "application/vnd.jupyter.widget-view+json": {
       "model_id": "a62b803992e345ef8a4fe63a8a0917b9",
       "version_major": 2,
       "version_minor": 0
      },
      "text/plain": [
       "  0%|          | 0/39 [00:00<?, ?it/s]"
      ]
     },
     "metadata": {},
     "output_type": "display_data"
    },
    {
     "data": {
      "application/vnd.jupyter.widget-view+json": {
       "model_id": "b3a1896857b34e16b28b08b593d8f8be",
       "version_major": 2,
       "version_minor": 0
      },
      "text/plain": [
       "  0%|          | 0/39 [00:00<?, ?it/s]"
      ]
     },
     "metadata": {},
     "output_type": "display_data"
    },
    {
     "name": "stdout",
     "output_type": "stream",
     "text": [
      "              precision    recall  f1-score   support\n",
      "\n",
      "         Cau       0.94      0.86      0.90        72\n",
      "         Met       0.92      0.82      0.87        74\n",
      "         Phe       0.95      0.82      0.88       201\n",
      "\n",
      "   micro avg       0.94      0.83      0.88       347\n",
      "   macro avg       0.94      0.84      0.88       347\n",
      "weighted avg       0.94      0.83      0.88       347\n",
      "\n",
      "Epoch 64/80\n",
      "-------------------------------\n"
     ]
    },
    {
     "data": {
      "application/vnd.jupyter.widget-view+json": {
       "model_id": "dd063acd411f426bbc995062f7c7b838",
       "version_major": 2,
       "version_minor": 0
      },
      "text/plain": [
       "  0%|          | 0/39 [00:00<?, ?it/s]"
      ]
     },
     "metadata": {},
     "output_type": "display_data"
    },
    {
     "data": {
      "application/vnd.jupyter.widget-view+json": {
       "model_id": "182c8e44dfa54af79a58e9c20bdf3a72",
       "version_major": 2,
       "version_minor": 0
      },
      "text/plain": [
       "  0%|          | 0/39 [00:00<?, ?it/s]"
      ]
     },
     "metadata": {},
     "output_type": "display_data"
    },
    {
     "name": "stdout",
     "output_type": "stream",
     "text": [
      "              precision    recall  f1-score   support\n",
      "\n",
      "         Cau       0.94      0.86      0.90        72\n",
      "         Met       0.93      0.84      0.88        74\n",
      "         Phe       0.94      0.83      0.88       201\n",
      "\n",
      "   micro avg       0.94      0.84      0.88       347\n",
      "   macro avg       0.93      0.84      0.89       347\n",
      "weighted avg       0.94      0.84      0.88       347\n",
      "\n",
      "Epoch 65/80\n",
      "-------------------------------\n"
     ]
    },
    {
     "data": {
      "application/vnd.jupyter.widget-view+json": {
       "model_id": "b5004a7e670542ffb73451fb4c3dd3ee",
       "version_major": 2,
       "version_minor": 0
      },
      "text/plain": [
       "  0%|          | 0/39 [00:00<?, ?it/s]"
      ]
     },
     "metadata": {},
     "output_type": "display_data"
    },
    {
     "data": {
      "application/vnd.jupyter.widget-view+json": {
       "model_id": "0607f399f0c144c5aeaf47aaf9a2194f",
       "version_major": 2,
       "version_minor": 0
      },
      "text/plain": [
       "  0%|          | 0/39 [00:00<?, ?it/s]"
      ]
     },
     "metadata": {},
     "output_type": "display_data"
    },
    {
     "name": "stdout",
     "output_type": "stream",
     "text": [
      "              precision    recall  f1-score   support\n",
      "\n",
      "         Cau       0.91      0.81      0.85        72\n",
      "         Met       0.91      0.81      0.86        74\n",
      "         Phe       0.96      0.81      0.88       201\n",
      "\n",
      "   micro avg       0.94      0.81      0.87       347\n",
      "   macro avg       0.92      0.81      0.86       347\n",
      "weighted avg       0.94      0.81      0.87       347\n",
      "\n",
      "Epoch 66/80\n",
      "-------------------------------\n"
     ]
    },
    {
     "data": {
      "application/vnd.jupyter.widget-view+json": {
       "model_id": "90c94a8c6e2c443c87b1db3902f4e0bc",
       "version_major": 2,
       "version_minor": 0
      },
      "text/plain": [
       "  0%|          | 0/39 [00:00<?, ?it/s]"
      ]
     },
     "metadata": {},
     "output_type": "display_data"
    },
    {
     "data": {
      "application/vnd.jupyter.widget-view+json": {
       "model_id": "d197732a5bff411e91d132275582ac7d",
       "version_major": 2,
       "version_minor": 0
      },
      "text/plain": [
       "  0%|          | 0/39 [00:00<?, ?it/s]"
      ]
     },
     "metadata": {},
     "output_type": "display_data"
    },
    {
     "name": "stdout",
     "output_type": "stream",
     "text": [
      "              precision    recall  f1-score   support\n",
      "\n",
      "         Cau       0.92      0.85      0.88        72\n",
      "         Met       0.93      0.84      0.88        74\n",
      "         Phe       0.95      0.81      0.87       201\n",
      "\n",
      "   micro avg       0.94      0.82      0.88       347\n",
      "   macro avg       0.93      0.83      0.88       347\n",
      "weighted avg       0.94      0.82      0.88       347\n",
      "\n",
      "Epoch 67/80\n",
      "-------------------------------\n"
     ]
    },
    {
     "data": {
      "application/vnd.jupyter.widget-view+json": {
       "model_id": "83f99eaeed4e40db94329e176bb9f6c6",
       "version_major": 2,
       "version_minor": 0
      },
      "text/plain": [
       "  0%|          | 0/39 [00:00<?, ?it/s]"
      ]
     },
     "metadata": {},
     "output_type": "display_data"
    },
    {
     "data": {
      "application/vnd.jupyter.widget-view+json": {
       "model_id": "980cb5ea899a4a42b2e69e6386c6af98",
       "version_major": 2,
       "version_minor": 0
      },
      "text/plain": [
       "  0%|          | 0/39 [00:00<?, ?it/s]"
      ]
     },
     "metadata": {},
     "output_type": "display_data"
    },
    {
     "name": "stdout",
     "output_type": "stream",
     "text": [
      "              precision    recall  f1-score   support\n",
      "\n",
      "         Cau       0.93      0.86      0.89        72\n",
      "         Met       0.92      0.82      0.87        74\n",
      "         Phe       0.94      0.83      0.88       201\n",
      "\n",
      "   micro avg       0.93      0.83      0.88       347\n",
      "   macro avg       0.93      0.84      0.88       347\n",
      "weighted avg       0.93      0.83      0.88       347\n",
      "\n",
      "Epoch 68/80\n",
      "-------------------------------\n"
     ]
    },
    {
     "data": {
      "application/vnd.jupyter.widget-view+json": {
       "model_id": "e4657ad6b9484c6e87407cc94b6cbf51",
       "version_major": 2,
       "version_minor": 0
      },
      "text/plain": [
       "  0%|          | 0/39 [00:00<?, ?it/s]"
      ]
     },
     "metadata": {},
     "output_type": "display_data"
    },
    {
     "data": {
      "application/vnd.jupyter.widget-view+json": {
       "model_id": "acef10106f954ab2b38c58ab0bac47b3",
       "version_major": 2,
       "version_minor": 0
      },
      "text/plain": [
       "  0%|          | 0/39 [00:00<?, ?it/s]"
      ]
     },
     "metadata": {},
     "output_type": "display_data"
    },
    {
     "name": "stdout",
     "output_type": "stream",
     "text": [
      "              precision    recall  f1-score   support\n",
      "\n",
      "         Cau       0.93      0.86      0.89        72\n",
      "         Met       0.92      0.82      0.87        74\n",
      "         Phe       0.94      0.83      0.88       201\n",
      "\n",
      "   micro avg       0.93      0.83      0.88       347\n",
      "   macro avg       0.93      0.84      0.88       347\n",
      "weighted avg       0.93      0.83      0.88       347\n",
      "\n",
      "Epoch 69/80\n",
      "-------------------------------\n"
     ]
    },
    {
     "data": {
      "application/vnd.jupyter.widget-view+json": {
       "model_id": "7dbb82294cb14ec9bf68b6d3adb208f1",
       "version_major": 2,
       "version_minor": 0
      },
      "text/plain": [
       "  0%|          | 0/39 [00:00<?, ?it/s]"
      ]
     },
     "metadata": {},
     "output_type": "display_data"
    },
    {
     "data": {
      "application/vnd.jupyter.widget-view+json": {
       "model_id": "c1bf629082d24b2ab92d3fb76744c313",
       "version_major": 2,
       "version_minor": 0
      },
      "text/plain": [
       "  0%|          | 0/39 [00:00<?, ?it/s]"
      ]
     },
     "metadata": {},
     "output_type": "display_data"
    },
    {
     "name": "stdout",
     "output_type": "stream",
     "text": [
      "              precision    recall  f1-score   support\n",
      "\n",
      "         Cau       0.94      0.88      0.91        72\n",
      "         Met       0.94      0.84      0.89        74\n",
      "         Phe       0.95      0.87      0.90       201\n",
      "\n",
      "   micro avg       0.94      0.86      0.90       347\n",
      "   macro avg       0.94      0.86      0.90       347\n",
      "weighted avg       0.94      0.86      0.90       347\n",
      "\n",
      "Epoch 70/80\n",
      "-------------------------------\n"
     ]
    },
    {
     "data": {
      "application/vnd.jupyter.widget-view+json": {
       "model_id": "1d1aeeb774054f8a8c200aa20d2e8dbc",
       "version_major": 2,
       "version_minor": 0
      },
      "text/plain": [
       "  0%|          | 0/39 [00:00<?, ?it/s]"
      ]
     },
     "metadata": {},
     "output_type": "display_data"
    },
    {
     "data": {
      "application/vnd.jupyter.widget-view+json": {
       "model_id": "9831744bb3044066b51d8ff925ff8516",
       "version_major": 2,
       "version_minor": 0
      },
      "text/plain": [
       "  0%|          | 0/39 [00:00<?, ?it/s]"
      ]
     },
     "metadata": {},
     "output_type": "display_data"
    },
    {
     "name": "stdout",
     "output_type": "stream",
     "text": [
      "              precision    recall  f1-score   support\n",
      "\n",
      "         Cau       0.93      0.86      0.89        72\n",
      "         Met       0.92      0.82      0.87        74\n",
      "         Phe       0.94      0.83      0.88       201\n",
      "\n",
      "   micro avg       0.94      0.83      0.88       347\n",
      "   macro avg       0.93      0.84      0.88       347\n",
      "weighted avg       0.94      0.83      0.88       347\n",
      "\n",
      "Epoch 71/80\n",
      "-------------------------------\n"
     ]
    },
    {
     "data": {
      "application/vnd.jupyter.widget-view+json": {
       "model_id": "faf364c9f8814541a498d156d855336f",
       "version_major": 2,
       "version_minor": 0
      },
      "text/plain": [
       "  0%|          | 0/39 [00:00<?, ?it/s]"
      ]
     },
     "metadata": {},
     "output_type": "display_data"
    },
    {
     "data": {
      "application/vnd.jupyter.widget-view+json": {
       "model_id": "1f5ff0ec6a48484cbd089f2e3cab72e9",
       "version_major": 2,
       "version_minor": 0
      },
      "text/plain": [
       "  0%|          | 0/39 [00:00<?, ?it/s]"
      ]
     },
     "metadata": {},
     "output_type": "display_data"
    },
    {
     "name": "stdout",
     "output_type": "stream",
     "text": [
      "              precision    recall  f1-score   support\n",
      "\n",
      "         Cau       0.93      0.86      0.89        72\n",
      "         Met       0.91      0.81      0.86        74\n",
      "         Phe       0.94      0.85      0.90       201\n",
      "\n",
      "   micro avg       0.93      0.84      0.89       347\n",
      "   macro avg       0.93      0.84      0.88       347\n",
      "weighted avg       0.93      0.84      0.89       347\n",
      "\n",
      "Epoch 72/80\n",
      "-------------------------------\n"
     ]
    },
    {
     "data": {
      "application/vnd.jupyter.widget-view+json": {
       "model_id": "d5d426e203ce410bb7b8918169b84bae",
       "version_major": 2,
       "version_minor": 0
      },
      "text/plain": [
       "  0%|          | 0/39 [00:00<?, ?it/s]"
      ]
     },
     "metadata": {},
     "output_type": "display_data"
    },
    {
     "data": {
      "application/vnd.jupyter.widget-view+json": {
       "model_id": "a15fa921418b45b2a7d19ad5f0e7f6c9",
       "version_major": 2,
       "version_minor": 0
      },
      "text/plain": [
       "  0%|          | 0/39 [00:00<?, ?it/s]"
      ]
     },
     "metadata": {},
     "output_type": "display_data"
    },
    {
     "name": "stdout",
     "output_type": "stream",
     "text": [
      "              precision    recall  f1-score   support\n",
      "\n",
      "         Cau       0.94      0.88      0.91        72\n",
      "         Met       0.91      0.81      0.86        74\n",
      "         Phe       0.95      0.86      0.90       201\n",
      "\n",
      "   micro avg       0.94      0.85      0.89       347\n",
      "   macro avg       0.93      0.85      0.89       347\n",
      "weighted avg       0.94      0.85      0.89       347\n",
      "\n",
      "Epoch 73/80\n",
      "-------------------------------\n"
     ]
    },
    {
     "data": {
      "application/vnd.jupyter.widget-view+json": {
       "model_id": "6e8412d5bd9441cbbca682c29c54e386",
       "version_major": 2,
       "version_minor": 0
      },
      "text/plain": [
       "  0%|          | 0/39 [00:00<?, ?it/s]"
      ]
     },
     "metadata": {},
     "output_type": "display_data"
    },
    {
     "data": {
      "application/vnd.jupyter.widget-view+json": {
       "model_id": "641e5e18d66246cf898725386ea19142",
       "version_major": 2,
       "version_minor": 0
      },
      "text/plain": [
       "  0%|          | 0/39 [00:00<?, ?it/s]"
      ]
     },
     "metadata": {},
     "output_type": "display_data"
    },
    {
     "name": "stdout",
     "output_type": "stream",
     "text": [
      "              precision    recall  f1-score   support\n",
      "\n",
      "         Cau       0.96      0.89      0.92        72\n",
      "         Met       0.91      0.81      0.86        74\n",
      "         Phe       0.95      0.86      0.90       201\n",
      "\n",
      "   micro avg       0.94      0.85      0.89       347\n",
      "   macro avg       0.94      0.85      0.89       347\n",
      "weighted avg       0.94      0.85      0.89       347\n",
      "\n",
      "Epoch 74/80\n",
      "-------------------------------\n"
     ]
    },
    {
     "data": {
      "application/vnd.jupyter.widget-view+json": {
       "model_id": "a2558d1f850b4d1ca64cfeb074269847",
       "version_major": 2,
       "version_minor": 0
      },
      "text/plain": [
       "  0%|          | 0/39 [00:00<?, ?it/s]"
      ]
     },
     "metadata": {},
     "output_type": "display_data"
    },
    {
     "data": {
      "application/vnd.jupyter.widget-view+json": {
       "model_id": "2d7e1636aa8f4dfdb66dfe26e329f42e",
       "version_major": 2,
       "version_minor": 0
      },
      "text/plain": [
       "  0%|          | 0/39 [00:00<?, ?it/s]"
      ]
     },
     "metadata": {},
     "output_type": "display_data"
    },
    {
     "name": "stdout",
     "output_type": "stream",
     "text": [
      "              precision    recall  f1-score   support\n",
      "\n",
      "         Cau       0.96      0.89      0.92        72\n",
      "         Met       0.91      0.81      0.86        74\n",
      "         Phe       0.95      0.84      0.89       201\n",
      "\n",
      "   micro avg       0.94      0.84      0.89       347\n",
      "   macro avg       0.94      0.85      0.89       347\n",
      "weighted avg       0.94      0.84      0.89       347\n",
      "\n",
      "Epoch 75/80\n",
      "-------------------------------\n"
     ]
    },
    {
     "data": {
      "application/vnd.jupyter.widget-view+json": {
       "model_id": "9dfa454022e94e9d96aa8eeec0db1157",
       "version_major": 2,
       "version_minor": 0
      },
      "text/plain": [
       "  0%|          | 0/39 [00:00<?, ?it/s]"
      ]
     },
     "metadata": {},
     "output_type": "display_data"
    },
    {
     "data": {
      "application/vnd.jupyter.widget-view+json": {
       "model_id": "1dba5ec82c134201b88a20ef6ceb445f",
       "version_major": 2,
       "version_minor": 0
      },
      "text/plain": [
       "  0%|          | 0/39 [00:00<?, ?it/s]"
      ]
     },
     "metadata": {},
     "output_type": "display_data"
    },
    {
     "name": "stdout",
     "output_type": "stream",
     "text": [
      "              precision    recall  f1-score   support\n",
      "\n",
      "         Cau       0.94      0.88      0.91        72\n",
      "         Met       0.91      0.81      0.86        74\n",
      "         Phe       0.93      0.85      0.89       201\n",
      "\n",
      "   micro avg       0.93      0.84      0.89       347\n",
      "   macro avg       0.93      0.84      0.88       347\n",
      "weighted avg       0.93      0.84      0.89       347\n",
      "\n",
      "Epoch 76/80\n",
      "-------------------------------\n"
     ]
    },
    {
     "data": {
      "application/vnd.jupyter.widget-view+json": {
       "model_id": "22e9772869674e33b9977a2b338b361d",
       "version_major": 2,
       "version_minor": 0
      },
      "text/plain": [
       "  0%|          | 0/39 [00:00<?, ?it/s]"
      ]
     },
     "metadata": {},
     "output_type": "display_data"
    },
    {
     "data": {
      "application/vnd.jupyter.widget-view+json": {
       "model_id": "f8297b1977574ab9a46b0d2b9993c082",
       "version_major": 2,
       "version_minor": 0
      },
      "text/plain": [
       "  0%|          | 0/39 [00:00<?, ?it/s]"
      ]
     },
     "metadata": {},
     "output_type": "display_data"
    },
    {
     "name": "stdout",
     "output_type": "stream",
     "text": [
      "              precision    recall  f1-score   support\n",
      "\n",
      "         Cau       0.94      0.88      0.91        72\n",
      "         Met       0.91      0.81      0.86        74\n",
      "         Phe       0.94      0.85      0.90       201\n",
      "\n",
      "   micro avg       0.94      0.85      0.89       347\n",
      "   macro avg       0.93      0.85      0.89       347\n",
      "weighted avg       0.94      0.85      0.89       347\n",
      "\n",
      "Epoch 77/80\n",
      "-------------------------------\n"
     ]
    },
    {
     "data": {
      "application/vnd.jupyter.widget-view+json": {
       "model_id": "fd1d2d65498349e38bb525ba5e25bcb4",
       "version_major": 2,
       "version_minor": 0
      },
      "text/plain": [
       "  0%|          | 0/39 [00:00<?, ?it/s]"
      ]
     },
     "metadata": {},
     "output_type": "display_data"
    },
    {
     "data": {
      "application/vnd.jupyter.widget-view+json": {
       "model_id": "abb12cb8c228409e99173e534f20c345",
       "version_major": 2,
       "version_minor": 0
      },
      "text/plain": [
       "  0%|          | 0/39 [00:00<?, ?it/s]"
      ]
     },
     "metadata": {},
     "output_type": "display_data"
    },
    {
     "name": "stdout",
     "output_type": "stream",
     "text": [
      "              precision    recall  f1-score   support\n",
      "\n",
      "         Cau       0.94      0.88      0.91        72\n",
      "         Met       0.91      0.81      0.86        74\n",
      "         Phe       0.95      0.85      0.90       201\n",
      "\n",
      "   micro avg       0.94      0.85      0.89       347\n",
      "   macro avg       0.93      0.85      0.89       347\n",
      "weighted avg       0.94      0.85      0.89       347\n",
      "\n",
      "Epoch 78/80\n",
      "-------------------------------\n"
     ]
    },
    {
     "data": {
      "application/vnd.jupyter.widget-view+json": {
       "model_id": "e585a6a1ec1242e7bbe7e320a829d8dd",
       "version_major": 2,
       "version_minor": 0
      },
      "text/plain": [
       "  0%|          | 0/39 [00:00<?, ?it/s]"
      ]
     },
     "metadata": {},
     "output_type": "display_data"
    },
    {
     "data": {
      "application/vnd.jupyter.widget-view+json": {
       "model_id": "a51bd60360b54b79830c163e18838c30",
       "version_major": 2,
       "version_minor": 0
      },
      "text/plain": [
       "  0%|          | 0/39 [00:00<?, ?it/s]"
      ]
     },
     "metadata": {},
     "output_type": "display_data"
    },
    {
     "name": "stdout",
     "output_type": "stream",
     "text": [
      "              precision    recall  f1-score   support\n",
      "\n",
      "         Cau       0.94      0.88      0.91        72\n",
      "         Met       0.91      0.81      0.86        74\n",
      "         Phe       0.95      0.85      0.90       201\n",
      "\n",
      "   micro avg       0.94      0.85      0.89       347\n",
      "   macro avg       0.93      0.85      0.89       347\n",
      "weighted avg       0.94      0.85      0.89       347\n",
      "\n",
      "Epoch 79/80\n",
      "-------------------------------\n"
     ]
    },
    {
     "data": {
      "application/vnd.jupyter.widget-view+json": {
       "model_id": "675965a3a74f49fdb59595725b1aa53f",
       "version_major": 2,
       "version_minor": 0
      },
      "text/plain": [
       "  0%|          | 0/39 [00:00<?, ?it/s]"
      ]
     },
     "metadata": {},
     "output_type": "display_data"
    },
    {
     "data": {
      "application/vnd.jupyter.widget-view+json": {
       "model_id": "94319724c2e04d67a48ca8464be0d35d",
       "version_major": 2,
       "version_minor": 0
      },
      "text/plain": [
       "  0%|          | 0/39 [00:00<?, ?it/s]"
      ]
     },
     "metadata": {},
     "output_type": "display_data"
    },
    {
     "name": "stdout",
     "output_type": "stream",
     "text": [
      "              precision    recall  f1-score   support\n",
      "\n",
      "         Cau       0.94      0.88      0.91        72\n",
      "         Met       0.91      0.81      0.86        74\n",
      "         Phe       0.95      0.86      0.90       201\n",
      "\n",
      "   micro avg       0.94      0.85      0.89       347\n",
      "   macro avg       0.93      0.85      0.89       347\n",
      "weighted avg       0.94      0.85      0.89       347\n",
      "\n",
      "Epoch 80/80\n",
      "-------------------------------\n"
     ]
    },
    {
     "data": {
      "application/vnd.jupyter.widget-view+json": {
       "model_id": "0cd67f05a733414293a4ee33aa473770",
       "version_major": 2,
       "version_minor": 0
      },
      "text/plain": [
       "  0%|          | 0/39 [00:00<?, ?it/s]"
      ]
     },
     "metadata": {},
     "output_type": "display_data"
    },
    {
     "data": {
      "application/vnd.jupyter.widget-view+json": {
       "model_id": "5708c006fe5c4141af4787493bda5982",
       "version_major": 2,
       "version_minor": 0
      },
      "text/plain": [
       "  0%|          | 0/39 [00:00<?, ?it/s]"
      ]
     },
     "metadata": {},
     "output_type": "display_data"
    },
    {
     "name": "stdout",
     "output_type": "stream",
     "text": [
      "              precision    recall  f1-score   support\n",
      "\n",
      "         Cau       0.94      0.88      0.91        72\n",
      "         Met       0.91      0.81      0.86        74\n",
      "         Phe       0.95      0.86      0.90       201\n",
      "\n",
      "   micro avg       0.94      0.85      0.89       347\n",
      "   macro avg       0.93      0.85      0.89       347\n",
      "weighted avg       0.94      0.85      0.89       347\n",
      "\n",
      "Done!\n"
     ]
    }
   ],
   "source": [
    "from transformers import AdamW, get_scheduler\n",
    "\n",
    "learning_rate = 1e-5\n",
    "epoch_num = 80\n",
    "loss_fn = nn.CrossEntropyLoss()\n",
    "optimizer = AdamW(model.parameters(), lr=learning_rate)\n",
    "\n",
    "lr_scheduler = get_scheduler(\n",
    "    \"linear\",\n",
    "    optimizer=optimizer,\n",
    "    num_warmup_steps=0,\n",
    "    num_training_steps=epoch_num*len(train_dataloader),\n",
    ")\n",
    "\n",
    "total_loss = 0.\n",
    "loss_list=[]\n",
    "for t in range(epoch_num):\n",
    "    print(f\"Epoch {t+1}/{epoch_num}\\n-------------------------------\")\n",
    "    total_loss = train_loop(train_dataloader, model, loss_fn, optimizer, lr_scheduler, t+1, total_loss)\n",
    "    # total_loss = train_loop(train_dataloader, model, optimizer, lr_scheduler, t+1, total_loss)\n",
    "    test_loop(valid_dataloader, model)\n",
    "print(\"Done!\")"
   ]
  },
  {
   "cell_type": "code",
   "execution_count": 13,
   "id": "ed2933a6-a052-4b5c-8e01-4d0de6db55fa",
   "metadata": {},
   "outputs": [
    {
     "name": "stdout",
     "output_type": "stream",
     "text": [
      "[{'entity_group': 'Phe', 'word': '油位指示窗内出现油面', 'start': 9, 'end': 19}, {'entity_group': 'Phe', 'word': '纹囊有渗漏', 'start': 23, 'end': 28}, {'entity_group': 'Met', 'word': '指示窗有油', 'start': 40, 'end': 45}, {'entity_group': 'Met', 'word': '采取临时措施', 'start': 56, 'end': 62}]\n"
     ]
    }
   ],
   "source": [
    "sentence = '在使用过程中若发现油位指示窗内出现油面，说明波纹囊有渗漏，绝缘油进入空气腔。发现指示窗有油应马上通知厂家处理，并采取临时措施。'\n",
    "\n",
    "results = []\n",
    "with torch.no_grad():\n",
    "    inputs = tokenizer(sentence, truncation=True, return_tensors=\"pt\")\n",
    "    inputs = inputs.to(device)\n",
    "    pred = model.decode(inputs)\n",
    "    predictions = pred[0].tolist()\n",
    "    pred_label = []\n",
    "    inputs_with_offsets = tokenizer(sentence, return_offsets_mapping=True)\n",
    "    tokens = inputs_with_offsets.tokens()\n",
    "    offsets = inputs_with_offsets[\"offset_mapping\"]\n",
    "    idx = 0\n",
    "    while idx < len(predictions):\n",
    "        pred = predictions[idx]\n",
    "        label = id2label[pred]\n",
    "        if label != \"O\":\n",
    "            label = label[2:] # Remove the B- or I-\n",
    "            start, end = offsets[idx]\n",
    "            while (\n",
    "                idx + 1 < len(predictions) and \n",
    "                id2label[predictions[idx + 1]] == f\"I-{label}\"\n",
    "            ):\n",
    "                # all_scores.append(probabilities[idx + 1][predictions[idx + 1]])\n",
    "                _, end = offsets[idx + 1]\n",
    "                idx += 1\n",
    "            word = sentence[start:end]\n",
    "            pred_label.append(\n",
    "                {\n",
    "                    \"entity_group\": label,\n",
    "                    \"word\": word,\n",
    "                    \"start\": start,\n",
    "                    \"end\": end,\n",
    "                }\n",
    "            )\n",
    "        idx += 1\n",
    "    print(pred_label)"
   ]
  },
  {
   "cell_type": "code",
   "execution_count": 14,
   "id": "4c2158ba-fba9-45bd-b6c6-b40f95925551",
   "metadata": {},
   "outputs": [
    {
     "name": "stdout",
     "output_type": "stream",
     "text": [
      "[{'entity_group': 'Phe', 'word': '体继电器保', 'start': 1, 'end': 6}, {'entity_group': 'Phe', 'word': '装置', 'start': 7, 'end': 9}, {'entity_group': 'Phe', 'word': '信号动作', 'start': 10, 'end': 14}, {'entity_group': 'Phe', 'word': '报警信', 'start': 24, 'end': 27}, {'entity_group': 'Cau', 'word': '空气侵入变压器', 'start': 49, 'end': 56}, {'entity_group': 'Cau', 'word': '油位降低', 'start': 60, 'end': 64}, {'entity_group': 'Cau', 'word': '二次回路故障', 'start': 67, 'end': 73}]\n"
     ]
    }
   ],
   "source": [
    "sentence = '气体继电器保护装置的信号动作时，值班员应立即停止报警信号，并检查变压器，查明信号动作的原因，是否因空气侵入变压器内，或是油位降低，或是二次回路故障。'\n",
    "results = []\n",
    "with torch.no_grad():\n",
    "    inputs = tokenizer(sentence, truncation=True, return_tensors=\"pt\")\n",
    "    inputs = inputs.to(device)\n",
    "    pred = model.decode(inputs)\n",
    "    predictions = pred[0].tolist()\n",
    "    pred_label = []\n",
    "    inputs_with_offsets = tokenizer(sentence, return_offsets_mapping=True)\n",
    "    tokens = inputs_with_offsets.tokens()\n",
    "    offsets = inputs_with_offsets[\"offset_mapping\"]\n",
    "    idx = 0\n",
    "    while idx < len(predictions):\n",
    "        pred = predictions[idx]\n",
    "        label = id2label[pred]\n",
    "        if label != \"O\":\n",
    "            label = label[2:] # Remove the B- or I-\n",
    "            start, end = offsets[idx]\n",
    "            while (\n",
    "                idx + 1 < len(predictions) and \n",
    "                id2label[predictions[idx + 1]] == f\"I-{label}\"\n",
    "            ):\n",
    "                # all_scores.append(probabilities[idx + 1][predictions[idx + 1]])\n",
    "                _, end = offsets[idx + 1]\n",
    "                idx += 1\n",
    "            word = sentence[start:end]\n",
    "            pred_label.append(\n",
    "                {\n",
    "                    \"entity_group\": label,\n",
    "                    \"word\": word,\n",
    "                    \"start\": start,\n",
    "                    \"end\": end,\n",
    "                }\n",
    "            )\n",
    "        idx += 1\n",
    "    print(pred_label)"
   ]
  },
  {
   "cell_type": "code",
   "execution_count": null,
   "id": "f5d57aea-04bd-47ff-ad75-7350917c2d5a",
   "metadata": {},
   "outputs": [],
   "source": []
  }
 ],
 "metadata": {
  "kernelspec": {
   "display_name": "Python 3 (ipykernel)",
   "language": "python",
   "name": "python3"
  },
  "language_info": {
   "codemirror_mode": {
    "name": "ipython",
    "version": 3
   },
   "file_extension": ".py",
   "mimetype": "text/x-python",
   "name": "python",
   "nbconvert_exporter": "python",
   "pygments_lexer": "ipython3",
   "version": "3.8.10"
  }
 },
 "nbformat": 4,
 "nbformat_minor": 5
}
