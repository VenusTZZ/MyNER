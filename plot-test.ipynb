{
 "cells": [
  {
   "cell_type": "code",
   "execution_count": null,
   "id": "e5b4b180-8ab0-4e59-882b-84b80e5a82ff",
   "metadata": {},
   "outputs": [],
   "source": [
    "import matplotlib.pyplot as plt\n",
    "\n",
    "epochs = 10\n",
    "x = list(range(1, epochs + 1))\n",
    "\n",
    "plt.subplot(2, 1, 1)\n",
    "plt.plot(x, [teacher_history[i][1] for i in range(epochs)], label='teacher')\n",
    "plt.plot(x, [student_kd_history[i][1] for i in range(epochs)], label='student with KD')\n",
    "plt.plot(x, [student_simple_history[i][1] for i in range(epochs)], label='student without KD')\n",
    "\n",
    "plt.title('Test accuracy')\n",
    "plt.legend()\n",
    "\n",
    "plt.subplot(2, 1, 2)\n",
    "plt.plot(x, [teacher_history[i][0] for i in range(epochs)], label='teacher')\n",
    "plt.plot(x, [student_kd_history[i][0] for i in range(epochs)], label='student with KD')\n",
    "plt.plot(x, [student_simple_history[i][0] for i in range(epochs)], label='student without KD')\n",
    "\n",
    "plt.title('Test loss')\n",
    "plt.legend()"
   ]
  }
 ],
 "metadata": {
  "kernelspec": {
   "display_name": "Python 3 (ipykernel)",
   "language": "python",
   "name": "python3"
  },
  "language_info": {
   "codemirror_mode": {
    "name": "ipython",
    "version": 3
   },
   "file_extension": ".py",
   "mimetype": "text/x-python",
   "name": "python",
   "nbconvert_exporter": "python",
   "pygments_lexer": "ipython3",
   "version": "3.8.10"
  }
 },
 "nbformat": 4,
 "nbformat_minor": 5
}
